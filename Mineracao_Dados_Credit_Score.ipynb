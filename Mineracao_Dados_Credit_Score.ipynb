{
 "cells": [
  {
   "cell_type": "markdown",
   "metadata": {},
   "source": [
    "<h1><b>Trabalho de Classificação da Disciplina de Meneração de Dados</h1></b><br>\n",
    "<h2><b>Classificação de Credit Scores para bancos</h2></b><br>\n",
    "    <b>Descrição do Dataset: </b> \n",
    "    Para este trabalho será utilizado um conjunto de dados de clientes bancários solicitantes de credito, o Dataset possui 438924 instância (clientes) e 71 atributos (características).<br>\n",
    "    <b>Descrição da Atividade </b>\n",
    "    O intuito da atividade é classificar os clientes como adimplente (target = 0) ou inadimplente (target = 1) utilizando os atributos  previsores. Para garantir uma boa classificação serão aplicadas técnicas de Mineração de Dados afim de normalizar os dados."
   ]
  },
  {
   "cell_type": "code",
   "execution_count": 61,
   "metadata": {},
   "outputs": [],
   "source": [
    "#importação bibliotecas\n",
    "import pandas as pd\n",
    "import numpy as np\n",
    "from sklearn import preprocessing\n",
    "import csv\n",
    "from sklearn import preprocessing\n",
    "import matplotlib.pyplot as plt\n",
    "import seaborn as sns  \n",
    "import scikitplot as skplt"
   ]
  },
  {
   "cell_type": "code",
   "execution_count": 2,
   "metadata": {},
   "outputs": [],
   "source": [
    "#carregar base no formato CSV\n",
    "base = pd.read_csv('BASE_HIVE.csv', sep=',')"
   ]
  },
  {
   "cell_type": "code",
   "execution_count": 3,
   "metadata": {},
   "outputs": [
    {
     "data": {
      "text/html": [
       "<div>\n",
       "<style scoped>\n",
       "    .dataframe tbody tr th:only-of-type {\n",
       "        vertical-align: middle;\n",
       "    }\n",
       "\n",
       "    .dataframe tbody tr th {\n",
       "        vertical-align: top;\n",
       "    }\n",
       "\n",
       "    .dataframe thead th {\n",
       "        text-align: right;\n",
       "    }\n",
       "</style>\n",
       "<table border=\"1\" class=\"dataframe\">\n",
       "  <thead>\n",
       "    <tr style=\"text-align: right;\">\n",
       "      <th></th>\n",
       "      <th>bas.hs_cpf</th>\n",
       "      <th>bas.safra</th>\n",
       "      <th>bas.tempocpf</th>\n",
       "      <th>bas.distcentrocidade</th>\n",
       "      <th>bas.orientacao_sexual</th>\n",
       "      <th>bas.religiao</th>\n",
       "      <th>bas.distzonarisco</th>\n",
       "      <th>bas.qtdendereco</th>\n",
       "      <th>bas.qtdemail</th>\n",
       "      <th>bas.qtdcelular</th>\n",
       "      <th>...</th>\n",
       "      <th>ren.estimativarenda</th>\n",
       "      <th>ren.qtddeclaracaoisenta</th>\n",
       "      <th>ren.qtddeclaracao10</th>\n",
       "      <th>ren.qtddeclaracaorest10</th>\n",
       "      <th>ren.qtddeclaracaopagar10</th>\n",
       "      <th>ren.restituicaoagenciaaltarenda</th>\n",
       "      <th>ren.bolsafamilia</th>\n",
       "      <th>ren.anosultimarestituicao</th>\n",
       "      <th>ren.anosultimadeclaracao</th>\n",
       "      <th>ren.anosultimadeclaracaopagar</th>\n",
       "    </tr>\n",
       "  </thead>\n",
       "  <tbody>\n",
       "    <tr>\n",
       "      <th>0</th>\n",
       "      <td>539806</td>\n",
       "      <td>TESTE</td>\n",
       "      <td>17</td>\n",
       "      <td>15238</td>\n",
       "      <td>HETERO</td>\n",
       "      <td>OUTRAS</td>\n",
       "      <td>93</td>\n",
       "      <td>3</td>\n",
       "      <td>2</td>\n",
       "      <td>4</td>\n",
       "      <td>...</td>\n",
       "      <td>8500</td>\n",
       "      <td>0</td>\n",
       "      <td>2</td>\n",
       "      <td>1</td>\n",
       "      <td>1</td>\n",
       "      <td>0</td>\n",
       "      <td>0</td>\n",
       "      <td>1</td>\n",
       "      <td>1</td>\n",
       "      <td>5</td>\n",
       "    </tr>\n",
       "    <tr>\n",
       "      <th>1</th>\n",
       "      <td>638478</td>\n",
       "      <td>TESTE</td>\n",
       "      <td>5</td>\n",
       "      <td>-9999</td>\n",
       "      <td>HETERO</td>\n",
       "      <td>CATOLICA</td>\n",
       "      <td>-9999</td>\n",
       "      <td>0</td>\n",
       "      <td>0</td>\n",
       "      <td>0</td>\n",
       "      <td>...</td>\n",
       "      <td>900</td>\n",
       "      <td>0</td>\n",
       "      <td>0</td>\n",
       "      <td>0</td>\n",
       "      <td>0</td>\n",
       "      <td>0</td>\n",
       "      <td>0</td>\n",
       "      <td>-9998</td>\n",
       "      <td>-9998</td>\n",
       "      <td>-9998</td>\n",
       "    </tr>\n",
       "    <tr>\n",
       "      <th>2</th>\n",
       "      <td>55924</td>\n",
       "      <td>TREINO</td>\n",
       "      <td>16</td>\n",
       "      <td>0</td>\n",
       "      <td>HETERO</td>\n",
       "      <td>CATOLICA</td>\n",
       "      <td>268794</td>\n",
       "      <td>1</td>\n",
       "      <td>1</td>\n",
       "      <td>1</td>\n",
       "      <td>...</td>\n",
       "      <td>4500</td>\n",
       "      <td>7</td>\n",
       "      <td>0</td>\n",
       "      <td>0</td>\n",
       "      <td>0</td>\n",
       "      <td>0</td>\n",
       "      <td>0</td>\n",
       "      <td>-9998</td>\n",
       "      <td>13</td>\n",
       "      <td>-9998</td>\n",
       "    </tr>\n",
       "    <tr>\n",
       "      <th>3</th>\n",
       "      <td>339504</td>\n",
       "      <td>TREINO</td>\n",
       "      <td>11</td>\n",
       "      <td>10805</td>\n",
       "      <td>HETERO</td>\n",
       "      <td>CATOLICA</td>\n",
       "      <td>1140</td>\n",
       "      <td>3</td>\n",
       "      <td>1</td>\n",
       "      <td>1</td>\n",
       "      <td>...</td>\n",
       "      <td>3000</td>\n",
       "      <td>0</td>\n",
       "      <td>0</td>\n",
       "      <td>0</td>\n",
       "      <td>0</td>\n",
       "      <td>0</td>\n",
       "      <td>0</td>\n",
       "      <td>-9998</td>\n",
       "      <td>-9998</td>\n",
       "      <td>-9998</td>\n",
       "    </tr>\n",
       "    <tr>\n",
       "      <th>4</th>\n",
       "      <td>677172</td>\n",
       "      <td>TESTE</td>\n",
       "      <td>17</td>\n",
       "      <td>0</td>\n",
       "      <td>HETERO</td>\n",
       "      <td>EVANGELICA</td>\n",
       "      <td>146638</td>\n",
       "      <td>4</td>\n",
       "      <td>0</td>\n",
       "      <td>1</td>\n",
       "      <td>...</td>\n",
       "      <td>1000</td>\n",
       "      <td>0</td>\n",
       "      <td>0</td>\n",
       "      <td>0</td>\n",
       "      <td>0</td>\n",
       "      <td>0</td>\n",
       "      <td>0</td>\n",
       "      <td>-9998</td>\n",
       "      <td>-9998</td>\n",
       "      <td>-9998</td>\n",
       "    </tr>\n",
       "  </tbody>\n",
       "</table>\n",
       "<p>5 rows × 71 columns</p>\n",
       "</div>"
      ],
      "text/plain": [
       "   bas.hs_cpf bas.safra  bas.tempocpf  bas.distcentrocidade  \\\n",
       "0      539806     TESTE            17                 15238   \n",
       "1      638478     TESTE             5                 -9999   \n",
       "2       55924    TREINO            16                     0   \n",
       "3      339504    TREINO            11                 10805   \n",
       "4      677172     TESTE            17                     0   \n",
       "\n",
       "  bas.orientacao_sexual bas.religiao  bas.distzonarisco  bas.qtdendereco  \\\n",
       "0                HETERO       OUTRAS                 93                3   \n",
       "1                HETERO     CATOLICA              -9999                0   \n",
       "2                HETERO     CATOLICA             268794                1   \n",
       "3                HETERO     CATOLICA               1140                3   \n",
       "4                HETERO   EVANGELICA             146638                4   \n",
       "\n",
       "   bas.qtdemail  bas.qtdcelular  ...  ren.estimativarenda  \\\n",
       "0             2               4  ...                 8500   \n",
       "1             0               0  ...                  900   \n",
       "2             1               1  ...                 4500   \n",
       "3             1               1  ...                 3000   \n",
       "4             0               1  ...                 1000   \n",
       "\n",
       "   ren.qtddeclaracaoisenta  ren.qtddeclaracao10  ren.qtddeclaracaorest10  \\\n",
       "0                        0                    2                        1   \n",
       "1                        0                    0                        0   \n",
       "2                        7                    0                        0   \n",
       "3                        0                    0                        0   \n",
       "4                        0                    0                        0   \n",
       "\n",
       "   ren.qtddeclaracaopagar10  ren.restituicaoagenciaaltarenda  \\\n",
       "0                         1                                0   \n",
       "1                         0                                0   \n",
       "2                         0                                0   \n",
       "3                         0                                0   \n",
       "4                         0                                0   \n",
       "\n",
       "   ren.bolsafamilia  ren.anosultimarestituicao  ren.anosultimadeclaracao  \\\n",
       "0                 0                          1                         1   \n",
       "1                 0                      -9998                     -9998   \n",
       "2                 0                      -9998                        13   \n",
       "3                 0                      -9998                     -9998   \n",
       "4                 0                      -9998                     -9998   \n",
       "\n",
       "   ren.anosultimadeclaracaopagar  \n",
       "0                              5  \n",
       "1                          -9998  \n",
       "2                          -9998  \n",
       "3                          -9998  \n",
       "4                          -9998  \n",
       "\n",
       "[5 rows x 71 columns]"
      ]
     },
     "execution_count": 3,
     "metadata": {},
     "output_type": "execute_result"
    }
   ],
   "source": [
    "#5 primeiras ocorrencias \n",
    "base.head()"
   ]
  },
  {
   "cell_type": "code",
   "execution_count": 4,
   "metadata": {},
   "outputs": [
    {
     "name": "stdout",
     "output_type": "stream",
     "text": [
      "Numero de linhas: 438924\n",
      "Numero de colunas: 71\n"
     ]
    }
   ],
   "source": [
    "#exibindo o numero de linhas e colunas do dataset\n",
    "base.shape\n",
    "print('Numero de linhas: {:.0f}'.format(base.shape[0]))\n",
    "print('Numero de colunas: {:.0f}'.format(base.shape[1]))"
   ]
  },
  {
   "cell_type": "markdown",
   "metadata": {},
   "source": [
    "<b>Como é possível ver acima, essa base possui atributos que não agregam valor à classificação, como por exemplo, \"orientação_sexual\", \"religião\" entre outros, sendo assim, após analise, esses atributos foram retirados da base. Abaixo segue a relação dos atributos considerados relevantes para classificação:</b><br>\n",
    "bas.tempocpf<br>\n",
    "bas.celularprocon<br>\n",
    "bas.telfixoprocon<br>\n",
    "ren.estimativarenda<br>\n",
    "ren.qtddeclaracaoisenta<br>\n",
    "ren.qtddeclaracao10<br>\n",
    "ren.bolsafamilia<br>\n",
    "emp.indiceemprego<br>\n",
    "emp.porteempregador<br>\n",
    "emp.socioempresa<br>\n",
    "emp.funcionariopublico<br>\n",
    "emp.segmentacao<br>\n",
    "emp.segmentacaocobranca<br>\n",
    "fam.mediarendacasa<br>\n",
    "fam.bolsafamiliacasa<br>\n",
    "fam.funcionariopublicocasa<br>\n",
    "reg.idhmunicipio<br>\n",
    "<b>bas.target</b><br>"
   ]
  },
  {
   "cell_type": "code",
   "execution_count": 5,
   "metadata": {},
   "outputs": [],
   "source": [
    "base_filtrada = base[['bas.tempocpf', \n",
    "                      'bas.celularprocon', \n",
    "                      'bas.telfixoprocon', \n",
    "                      'ren.estimativarenda', \n",
    "                      'ren.qtddeclaracaoisenta',\n",
    "                      'ren.qtddeclaracao10',\n",
    "                      'ren.bolsafamilia',\n",
    "                      'emp.indiceemprego',\n",
    "                      'emp.porteempregador',\n",
    "                      'emp.socioempresa',\n",
    "                      'emp.funcionariopublico',\n",
    "                      'emp.segmentacao',\n",
    "                      'emp.segmentacaocobranca',\n",
    "                      'fam.mediarendacasa',\n",
    "                      'fam.bolsafamiliacasa',\n",
    "                      'fam.funcionariopublicocasa',\n",
    "                      'reg.idhmunicipio',\n",
    "                      'bas.target']]"
   ]
  },
  {
   "cell_type": "code",
   "execution_count": 6,
   "metadata": {},
   "outputs": [
    {
     "name": "stdout",
     "output_type": "stream",
     "text": [
      "Numero de linhas: 438924\n",
      "Numero de colunas: 18\n"
     ]
    }
   ],
   "source": [
    "#exibindo o numero de linhas e colunas do dataset\n",
    "base_filtrada.shape\n",
    "print('Numero de linhas: {:.0f}'.format(base_filtrada.shape[0]))\n",
    "print('Numero de colunas: {:.0f}'.format(base_filtrada.shape[1]))"
   ]
  },
  {
   "cell_type": "code",
   "execution_count": 7,
   "metadata": {},
   "outputs": [
    {
     "data": {
      "text/html": [
       "<div>\n",
       "<style scoped>\n",
       "    .dataframe tbody tr th:only-of-type {\n",
       "        vertical-align: middle;\n",
       "    }\n",
       "\n",
       "    .dataframe tbody tr th {\n",
       "        vertical-align: top;\n",
       "    }\n",
       "\n",
       "    .dataframe thead th {\n",
       "        text-align: right;\n",
       "    }\n",
       "</style>\n",
       "<table border=\"1\" class=\"dataframe\">\n",
       "  <thead>\n",
       "    <tr style=\"text-align: right;\">\n",
       "      <th></th>\n",
       "      <th>bas.tempocpf</th>\n",
       "      <th>bas.celularprocon</th>\n",
       "      <th>bas.telfixoprocon</th>\n",
       "      <th>ren.estimativarenda</th>\n",
       "      <th>ren.qtddeclaracaoisenta</th>\n",
       "      <th>ren.qtddeclaracao10</th>\n",
       "      <th>ren.bolsafamilia</th>\n",
       "      <th>emp.indiceemprego</th>\n",
       "      <th>emp.porteempregador</th>\n",
       "      <th>emp.socioempresa</th>\n",
       "      <th>emp.funcionariopublico</th>\n",
       "      <th>emp.segmentacao</th>\n",
       "      <th>emp.segmentacaocobranca</th>\n",
       "      <th>fam.mediarendacasa</th>\n",
       "      <th>fam.bolsafamiliacasa</th>\n",
       "      <th>fam.funcionariopublicocasa</th>\n",
       "      <th>reg.idhmunicipio</th>\n",
       "      <th>bas.target</th>\n",
       "    </tr>\n",
       "  </thead>\n",
       "  <tbody>\n",
       "    <tr>\n",
       "      <th>0</th>\n",
       "      <td>17</td>\n",
       "      <td>1</td>\n",
       "      <td>0</td>\n",
       "      <td>8500</td>\n",
       "      <td>0</td>\n",
       "      <td>2</td>\n",
       "      <td>0</td>\n",
       "      <td>5</td>\n",
       "      <td>2</td>\n",
       "      <td>0</td>\n",
       "      <td>0</td>\n",
       "      <td>4</td>\n",
       "      <td>0</td>\n",
       "      <td>-9999</td>\n",
       "      <td>-9999</td>\n",
       "      <td>-9999</td>\n",
       "      <td>80</td>\n",
       "      <td>0.0</td>\n",
       "    </tr>\n",
       "    <tr>\n",
       "      <th>1</th>\n",
       "      <td>5</td>\n",
       "      <td>0</td>\n",
       "      <td>0</td>\n",
       "      <td>900</td>\n",
       "      <td>0</td>\n",
       "      <td>0</td>\n",
       "      <td>0</td>\n",
       "      <td>0</td>\n",
       "      <td>0</td>\n",
       "      <td>0</td>\n",
       "      <td>0</td>\n",
       "      <td>2</td>\n",
       "      <td>0</td>\n",
       "      <td>-9999</td>\n",
       "      <td>-9999</td>\n",
       "      <td>-9999</td>\n",
       "      <td>-9999</td>\n",
       "      <td>0.0</td>\n",
       "    </tr>\n",
       "    <tr>\n",
       "      <th>2</th>\n",
       "      <td>16</td>\n",
       "      <td>0</td>\n",
       "      <td>0</td>\n",
       "      <td>4500</td>\n",
       "      <td>7</td>\n",
       "      <td>0</td>\n",
       "      <td>0</td>\n",
       "      <td>0</td>\n",
       "      <td>0</td>\n",
       "      <td>0</td>\n",
       "      <td>0</td>\n",
       "      <td>0</td>\n",
       "      <td>0</td>\n",
       "      <td>-9999</td>\n",
       "      <td>-9999</td>\n",
       "      <td>-9999</td>\n",
       "      <td>70</td>\n",
       "      <td>0.0</td>\n",
       "    </tr>\n",
       "    <tr>\n",
       "      <th>3</th>\n",
       "      <td>11</td>\n",
       "      <td>0</td>\n",
       "      <td>0</td>\n",
       "      <td>3000</td>\n",
       "      <td>0</td>\n",
       "      <td>0</td>\n",
       "      <td>0</td>\n",
       "      <td>0</td>\n",
       "      <td>2</td>\n",
       "      <td>1</td>\n",
       "      <td>0</td>\n",
       "      <td>1</td>\n",
       "      <td>0</td>\n",
       "      <td>-9999</td>\n",
       "      <td>-9999</td>\n",
       "      <td>-9999</td>\n",
       "      <td>73</td>\n",
       "      <td>0.0</td>\n",
       "    </tr>\n",
       "    <tr>\n",
       "      <th>4</th>\n",
       "      <td>17</td>\n",
       "      <td>0</td>\n",
       "      <td>0</td>\n",
       "      <td>1000</td>\n",
       "      <td>0</td>\n",
       "      <td>0</td>\n",
       "      <td>0</td>\n",
       "      <td>3</td>\n",
       "      <td>2</td>\n",
       "      <td>0</td>\n",
       "      <td>0</td>\n",
       "      <td>0</td>\n",
       "      <td>0</td>\n",
       "      <td>-9999</td>\n",
       "      <td>-9999</td>\n",
       "      <td>-9999</td>\n",
       "      <td>72</td>\n",
       "      <td>0.0</td>\n",
       "    </tr>\n",
       "    <tr>\n",
       "      <th>5</th>\n",
       "      <td>6</td>\n",
       "      <td>0</td>\n",
       "      <td>0</td>\n",
       "      <td>1100</td>\n",
       "      <td>0</td>\n",
       "      <td>0</td>\n",
       "      <td>0</td>\n",
       "      <td>2</td>\n",
       "      <td>4</td>\n",
       "      <td>0</td>\n",
       "      <td>0</td>\n",
       "      <td>0</td>\n",
       "      <td>0</td>\n",
       "      <td>1050</td>\n",
       "      <td>0</td>\n",
       "      <td>1</td>\n",
       "      <td>-9999</td>\n",
       "      <td>0.0</td>\n",
       "    </tr>\n",
       "    <tr>\n",
       "      <th>6</th>\n",
       "      <td>6</td>\n",
       "      <td>0</td>\n",
       "      <td>0</td>\n",
       "      <td>800</td>\n",
       "      <td>0</td>\n",
       "      <td>0</td>\n",
       "      <td>0</td>\n",
       "      <td>0</td>\n",
       "      <td>0</td>\n",
       "      <td>0</td>\n",
       "      <td>0</td>\n",
       "      <td>1</td>\n",
       "      <td>0</td>\n",
       "      <td>1900</td>\n",
       "      <td>0</td>\n",
       "      <td>0</td>\n",
       "      <td>76</td>\n",
       "      <td>0.0</td>\n",
       "    </tr>\n",
       "    <tr>\n",
       "      <th>7</th>\n",
       "      <td>25</td>\n",
       "      <td>0</td>\n",
       "      <td>0</td>\n",
       "      <td>1000</td>\n",
       "      <td>0</td>\n",
       "      <td>0</td>\n",
       "      <td>0</td>\n",
       "      <td>0</td>\n",
       "      <td>0</td>\n",
       "      <td>1</td>\n",
       "      <td>0</td>\n",
       "      <td>4</td>\n",
       "      <td>0</td>\n",
       "      <td>933</td>\n",
       "      <td>0</td>\n",
       "      <td>0</td>\n",
       "      <td>74</td>\n",
       "      <td>0.0</td>\n",
       "    </tr>\n",
       "    <tr>\n",
       "      <th>8</th>\n",
       "      <td>11</td>\n",
       "      <td>0</td>\n",
       "      <td>0</td>\n",
       "      <td>1100</td>\n",
       "      <td>0</td>\n",
       "      <td>0</td>\n",
       "      <td>0</td>\n",
       "      <td>3</td>\n",
       "      <td>4</td>\n",
       "      <td>0</td>\n",
       "      <td>0</td>\n",
       "      <td>5</td>\n",
       "      <td>1</td>\n",
       "      <td>-9999</td>\n",
       "      <td>-9999</td>\n",
       "      <td>-9999</td>\n",
       "      <td>78</td>\n",
       "      <td>0.0</td>\n",
       "    </tr>\n",
       "    <tr>\n",
       "      <th>9</th>\n",
       "      <td>5</td>\n",
       "      <td>0</td>\n",
       "      <td>0</td>\n",
       "      <td>900</td>\n",
       "      <td>0</td>\n",
       "      <td>0</td>\n",
       "      <td>0</td>\n",
       "      <td>0</td>\n",
       "      <td>0</td>\n",
       "      <td>0</td>\n",
       "      <td>0</td>\n",
       "      <td>1</td>\n",
       "      <td>0</td>\n",
       "      <td>-9999</td>\n",
       "      <td>-9999</td>\n",
       "      <td>-9999</td>\n",
       "      <td>-9999</td>\n",
       "      <td>0.0</td>\n",
       "    </tr>\n",
       "    <tr>\n",
       "      <th>10</th>\n",
       "      <td>11</td>\n",
       "      <td>0</td>\n",
       "      <td>0</td>\n",
       "      <td>900</td>\n",
       "      <td>0</td>\n",
       "      <td>0</td>\n",
       "      <td>0</td>\n",
       "      <td>0</td>\n",
       "      <td>2</td>\n",
       "      <td>1</td>\n",
       "      <td>0</td>\n",
       "      <td>0</td>\n",
       "      <td>0</td>\n",
       "      <td>980</td>\n",
       "      <td>0</td>\n",
       "      <td>0</td>\n",
       "      <td>73</td>\n",
       "      <td>0.0</td>\n",
       "    </tr>\n",
       "    <tr>\n",
       "      <th>11</th>\n",
       "      <td>15</td>\n",
       "      <td>0</td>\n",
       "      <td>0</td>\n",
       "      <td>400</td>\n",
       "      <td>0</td>\n",
       "      <td>0</td>\n",
       "      <td>1</td>\n",
       "      <td>0</td>\n",
       "      <td>0</td>\n",
       "      <td>0</td>\n",
       "      <td>0</td>\n",
       "      <td>0</td>\n",
       "      <td>0</td>\n",
       "      <td>-9999</td>\n",
       "      <td>-9999</td>\n",
       "      <td>-9999</td>\n",
       "      <td>76</td>\n",
       "      <td>0.0</td>\n",
       "    </tr>\n",
       "    <tr>\n",
       "      <th>12</th>\n",
       "      <td>5</td>\n",
       "      <td>0</td>\n",
       "      <td>0</td>\n",
       "      <td>1000</td>\n",
       "      <td>0</td>\n",
       "      <td>0</td>\n",
       "      <td>0</td>\n",
       "      <td>3</td>\n",
       "      <td>3</td>\n",
       "      <td>0</td>\n",
       "      <td>0</td>\n",
       "      <td>0</td>\n",
       "      <td>0</td>\n",
       "      <td>1400</td>\n",
       "      <td>0</td>\n",
       "      <td>0</td>\n",
       "      <td>-9999</td>\n",
       "      <td>0.0</td>\n",
       "    </tr>\n",
       "    <tr>\n",
       "      <th>13</th>\n",
       "      <td>13</td>\n",
       "      <td>0</td>\n",
       "      <td>0</td>\n",
       "      <td>4500</td>\n",
       "      <td>2</td>\n",
       "      <td>7</td>\n",
       "      <td>0</td>\n",
       "      <td>5</td>\n",
       "      <td>4</td>\n",
       "      <td>0</td>\n",
       "      <td>0</td>\n",
       "      <td>0</td>\n",
       "      <td>0</td>\n",
       "      <td>-9999</td>\n",
       "      <td>-9999</td>\n",
       "      <td>-9999</td>\n",
       "      <td>64</td>\n",
       "      <td>0.0</td>\n",
       "    </tr>\n",
       "    <tr>\n",
       "      <th>14</th>\n",
       "      <td>-9999</td>\n",
       "      <td>0</td>\n",
       "      <td>0</td>\n",
       "      <td>1100</td>\n",
       "      <td>0</td>\n",
       "      <td>0</td>\n",
       "      <td>0</td>\n",
       "      <td>4</td>\n",
       "      <td>1</td>\n",
       "      <td>0</td>\n",
       "      <td>0</td>\n",
       "      <td>4</td>\n",
       "      <td>0</td>\n",
       "      <td>-9999</td>\n",
       "      <td>-9999</td>\n",
       "      <td>-9999</td>\n",
       "      <td>75</td>\n",
       "      <td>0.0</td>\n",
       "    </tr>\n",
       "  </tbody>\n",
       "</table>\n",
       "</div>"
      ],
      "text/plain": [
       "    bas.tempocpf  bas.celularprocon  bas.telfixoprocon  ren.estimativarenda  \\\n",
       "0             17                  1                  0                 8500   \n",
       "1              5                  0                  0                  900   \n",
       "2             16                  0                  0                 4500   \n",
       "3             11                  0                  0                 3000   \n",
       "4             17                  0                  0                 1000   \n",
       "5              6                  0                  0                 1100   \n",
       "6              6                  0                  0                  800   \n",
       "7             25                  0                  0                 1000   \n",
       "8             11                  0                  0                 1100   \n",
       "9              5                  0                  0                  900   \n",
       "10            11                  0                  0                  900   \n",
       "11            15                  0                  0                  400   \n",
       "12             5                  0                  0                 1000   \n",
       "13            13                  0                  0                 4500   \n",
       "14         -9999                  0                  0                 1100   \n",
       "\n",
       "    ren.qtddeclaracaoisenta  ren.qtddeclaracao10  ren.bolsafamilia  \\\n",
       "0                         0                    2                 0   \n",
       "1                         0                    0                 0   \n",
       "2                         7                    0                 0   \n",
       "3                         0                    0                 0   \n",
       "4                         0                    0                 0   \n",
       "5                         0                    0                 0   \n",
       "6                         0                    0                 0   \n",
       "7                         0                    0                 0   \n",
       "8                         0                    0                 0   \n",
       "9                         0                    0                 0   \n",
       "10                        0                    0                 0   \n",
       "11                        0                    0                 1   \n",
       "12                        0                    0                 0   \n",
       "13                        2                    7                 0   \n",
       "14                        0                    0                 0   \n",
       "\n",
       "    emp.indiceemprego  emp.porteempregador  emp.socioempresa  \\\n",
       "0                   5                    2                 0   \n",
       "1                   0                    0                 0   \n",
       "2                   0                    0                 0   \n",
       "3                   0                    2                 1   \n",
       "4                   3                    2                 0   \n",
       "5                   2                    4                 0   \n",
       "6                   0                    0                 0   \n",
       "7                   0                    0                 1   \n",
       "8                   3                    4                 0   \n",
       "9                   0                    0                 0   \n",
       "10                  0                    2                 1   \n",
       "11                  0                    0                 0   \n",
       "12                  3                    3                 0   \n",
       "13                  5                    4                 0   \n",
       "14                  4                    1                 0   \n",
       "\n",
       "    emp.funcionariopublico  emp.segmentacao  emp.segmentacaocobranca  \\\n",
       "0                        0                4                        0   \n",
       "1                        0                2                        0   \n",
       "2                        0                0                        0   \n",
       "3                        0                1                        0   \n",
       "4                        0                0                        0   \n",
       "5                        0                0                        0   \n",
       "6                        0                1                        0   \n",
       "7                        0                4                        0   \n",
       "8                        0                5                        1   \n",
       "9                        0                1                        0   \n",
       "10                       0                0                        0   \n",
       "11                       0                0                        0   \n",
       "12                       0                0                        0   \n",
       "13                       0                0                        0   \n",
       "14                       0                4                        0   \n",
       "\n",
       "    fam.mediarendacasa  fam.bolsafamiliacasa  fam.funcionariopublicocasa  \\\n",
       "0                -9999                 -9999                       -9999   \n",
       "1                -9999                 -9999                       -9999   \n",
       "2                -9999                 -9999                       -9999   \n",
       "3                -9999                 -9999                       -9999   \n",
       "4                -9999                 -9999                       -9999   \n",
       "5                 1050                     0                           1   \n",
       "6                 1900                     0                           0   \n",
       "7                  933                     0                           0   \n",
       "8                -9999                 -9999                       -9999   \n",
       "9                -9999                 -9999                       -9999   \n",
       "10                 980                     0                           0   \n",
       "11               -9999                 -9999                       -9999   \n",
       "12                1400                     0                           0   \n",
       "13               -9999                 -9999                       -9999   \n",
       "14               -9999                 -9999                       -9999   \n",
       "\n",
       "    reg.idhmunicipio  bas.target  \n",
       "0                 80         0.0  \n",
       "1              -9999         0.0  \n",
       "2                 70         0.0  \n",
       "3                 73         0.0  \n",
       "4                 72         0.0  \n",
       "5              -9999         0.0  \n",
       "6                 76         0.0  \n",
       "7                 74         0.0  \n",
       "8                 78         0.0  \n",
       "9              -9999         0.0  \n",
       "10                73         0.0  \n",
       "11                76         0.0  \n",
       "12             -9999         0.0  \n",
       "13                64         0.0  \n",
       "14                75         0.0  "
      ]
     },
     "execution_count": 7,
     "metadata": {},
     "output_type": "execute_result"
    }
   ],
   "source": [
    "base_filtrada.head(15)"
   ]
  },
  {
   "cell_type": "markdown",
   "metadata": {},
   "source": [
    "<b>O comando acima mostra que alguns atributos possuem muitas valores incorretos (-9999), por isso será necessário uma analise da quantidades desses valores exitem em cada atributo restante para que possamos descidir se o atributo em questão será útil para classificação.</b>"
   ]
  },
  {
   "cell_type": "code",
   "execution_count": 8,
   "metadata": {},
   "outputs": [
    {
     "name": "stdout",
     "output_type": "stream",
     "text": [
      "Numero de ocorrências do valor -9999 para o atributo bas.tempocpf = 13740\n",
      "Porcentagem de ocorrencias valor -9999 para o atributo bas.tempocpf= 3.1303824807939415 %\n",
      "\n",
      "Numero de ocorrências do valor -9999 para o atributo bas.celularprocon = 5667\n",
      "Porcentagem de ocorrencias valor -9999 para o atributo bas.celularprocon= 1.2911119009213439 %\n",
      "\n",
      "Numero de ocorrências do valor -9999 para o atributo bas.telfixoprocon = 5667\n",
      "Porcentagem de ocorrencias valor -9999 para o atributo bas.telfixoprocon= 1.2911119009213439 %\n",
      "\n",
      "Numero de ocorrências do valor -9999 para o atributo ren.estimativarenda = 5667\n",
      "Porcentagem de ocorrencias valor -9999 para o atributo ren.estimativarenda= 1.2911119009213439 %\n",
      "\n",
      "Numero de ocorrências do valor -9999 para o atributo ren.qtddeclaracaoisenta = 5667\n",
      "Porcentagem de ocorrencias valor -9999 para o atributo ren.qtddeclaracaoisenta= 1.2911119009213439 %\n",
      "\n",
      "Numero de ocorrências do valor -9999 para o atributo ren.qtddeclaracao10 = 5667\n",
      "Porcentagem de ocorrencias valor -9999 para o atributo ren.qtddeclaracao10= 1.2911119009213439 %\n",
      "\n",
      "Numero de ocorrências do valor -9999 para o atributo ren.bolsafamilia = 5667\n",
      "Porcentagem de ocorrencias valor -9999 para o atributo ren.bolsafamilia= 1.2911119009213439 %\n",
      "\n",
      "Numero de ocorrências do valor -9999 para o atributo emp.indiceemprego = 5667\n",
      "Porcentagem de ocorrencias valor -9999 para o atributo emp.indiceemprego= 1.2911119009213439 %\n",
      "\n",
      "Numero de ocorrências do valor -9999 para o atributo emp.porteempregador = 5667\n",
      "Porcentagem de ocorrencias valor -9999 para o atributo emp.porteempregador= 1.2911119009213439 %\n",
      "\n",
      "Numero de ocorrências do valor -9999 para o atributo emp.socioempresa = 5667\n",
      "Porcentagem de ocorrencias valor -9999 para o atributo emp.socioempresa= 1.2911119009213439 %\n",
      "\n",
      "Numero de ocorrências do valor -9999 para o atributo emp.funcionariopublico = 5667\n",
      "Porcentagem de ocorrencias valor -9999 para o atributo emp.funcionariopublico= 1.2911119009213439 %\n",
      "\n",
      "Numero de ocorrências do valor -9999 para o atributo emp.segmentacao = 5667\n",
      "Porcentagem de ocorrencias valor -9999 para o atributo emp.segmentacao= 1.2911119009213439 %\n",
      "\n",
      "Numero de ocorrências do valor -9999 para o atributo emp.segmentacaocobranca = 5667\n",
      "Porcentagem de ocorrencias valor -9999 para o atributo emp.segmentacaocobranca= 1.2911119009213439 %\n",
      "\n",
      "Numero de ocorrências do valor -9999 para o atributo fam.mediarendacasa = 273404\n",
      "Porcentagem de ocorrencias valor -9999 para o atributo fam.mediarendacasa= 62.289599110552174 %\n",
      "\n",
      "Numero de ocorrências do valor -9999 para o atributo fam.bolsafamiliacasa = 273404\n",
      "Porcentagem de ocorrencias valor -9999 para o atributo fam.bolsafamiliacasa= 62.289599110552174 %\n",
      "\n",
      "Numero de ocorrências do valor -9999 para o atributo fam.funcionariopublicocasa = 273404\n",
      "Porcentagem de ocorrencias valor -9999 para o atributo fam.funcionariopublicocasa= 62.289599110552174 %\n",
      "\n",
      "Numero de ocorrências do valor -9999 para o atributo reg.idhmunicipio = 98434\n",
      "Porcentagem de ocorrencias valor -9999 para o atributo reg.idhmunicipio= 22.42620590352772 %\n",
      "\n",
      "O atributo bas.target não possui ocorrências do valor -9999\n"
     ]
    }
   ],
   "source": [
    "# Mostrando a quantidade de valores -9999 em cada atributo\n",
    "disc_col_val={}\n",
    "disc_porcent=[]\n",
    "for column in base_filtrada:\n",
    "    val = base_filtrada[column].value_counts()\n",
    "    porcento = base_filtrada[column].value_counts(normalize=True)\n",
    "    try:\n",
    "        print(f'Numero de ocorrências do valor -9999 para o atributo {column} = {val[-9999]}')\n",
    "        print(f'Porcentagem de ocorrencias valor -9999 para o atributo {column}= {porcento[-9999]*100} %')\n",
    "        print('')\n",
    "        disc_col_val[column]=val[-9999]\n",
    "        #disc_porcent[column]=porcento[-9999]*100\n",
    "        disc_porcent.append([column, round(porcento[-9999]*100, 2)])\n",
    "    except:\n",
    "        print(f'O atributo {column} não possui ocorrências do valor -9999')\n",
    "        disc_col_val[column]=0\n",
    "        #disc_porcent[column]=0\n",
    "        disc_porcent.append([column, 0])"
   ]
  },
  {
   "cell_type": "code",
   "execution_count": 9,
   "metadata": {},
   "outputs": [
    {
     "data": {
      "text/html": [
       "<div>\n",
       "<style scoped>\n",
       "    .dataframe tbody tr th:only-of-type {\n",
       "        vertical-align: middle;\n",
       "    }\n",
       "\n",
       "    .dataframe tbody tr th {\n",
       "        vertical-align: top;\n",
       "    }\n",
       "\n",
       "    .dataframe thead th {\n",
       "        text-align: right;\n",
       "    }\n",
       "</style>\n",
       "<table border=\"1\" class=\"dataframe\">\n",
       "  <thead>\n",
       "    <tr style=\"text-align: right;\">\n",
       "      <th></th>\n",
       "      <th>0</th>\n",
       "      <th>1</th>\n",
       "    </tr>\n",
       "  </thead>\n",
       "  <tbody>\n",
       "    <tr>\n",
       "      <th>0</th>\n",
       "      <td>bas.tempocpf</td>\n",
       "      <td>3.13</td>\n",
       "    </tr>\n",
       "    <tr>\n",
       "      <th>1</th>\n",
       "      <td>bas.celularprocon</td>\n",
       "      <td>1.29</td>\n",
       "    </tr>\n",
       "    <tr>\n",
       "      <th>2</th>\n",
       "      <td>bas.telfixoprocon</td>\n",
       "      <td>1.29</td>\n",
       "    </tr>\n",
       "    <tr>\n",
       "      <th>3</th>\n",
       "      <td>ren.estimativarenda</td>\n",
       "      <td>1.29</td>\n",
       "    </tr>\n",
       "    <tr>\n",
       "      <th>4</th>\n",
       "      <td>ren.qtddeclaracaoisenta</td>\n",
       "      <td>1.29</td>\n",
       "    </tr>\n",
       "    <tr>\n",
       "      <th>5</th>\n",
       "      <td>ren.qtddeclaracao10</td>\n",
       "      <td>1.29</td>\n",
       "    </tr>\n",
       "    <tr>\n",
       "      <th>6</th>\n",
       "      <td>ren.bolsafamilia</td>\n",
       "      <td>1.29</td>\n",
       "    </tr>\n",
       "    <tr>\n",
       "      <th>7</th>\n",
       "      <td>emp.indiceemprego</td>\n",
       "      <td>1.29</td>\n",
       "    </tr>\n",
       "    <tr>\n",
       "      <th>8</th>\n",
       "      <td>emp.porteempregador</td>\n",
       "      <td>1.29</td>\n",
       "    </tr>\n",
       "    <tr>\n",
       "      <th>9</th>\n",
       "      <td>emp.socioempresa</td>\n",
       "      <td>1.29</td>\n",
       "    </tr>\n",
       "    <tr>\n",
       "      <th>10</th>\n",
       "      <td>emp.funcionariopublico</td>\n",
       "      <td>1.29</td>\n",
       "    </tr>\n",
       "    <tr>\n",
       "      <th>11</th>\n",
       "      <td>emp.segmentacao</td>\n",
       "      <td>1.29</td>\n",
       "    </tr>\n",
       "    <tr>\n",
       "      <th>12</th>\n",
       "      <td>emp.segmentacaocobranca</td>\n",
       "      <td>1.29</td>\n",
       "    </tr>\n",
       "    <tr>\n",
       "      <th>13</th>\n",
       "      <td>fam.mediarendacasa</td>\n",
       "      <td>62.29</td>\n",
       "    </tr>\n",
       "    <tr>\n",
       "      <th>14</th>\n",
       "      <td>fam.bolsafamiliacasa</td>\n",
       "      <td>62.29</td>\n",
       "    </tr>\n",
       "    <tr>\n",
       "      <th>15</th>\n",
       "      <td>fam.funcionariopublicocasa</td>\n",
       "      <td>62.29</td>\n",
       "    </tr>\n",
       "    <tr>\n",
       "      <th>16</th>\n",
       "      <td>reg.idhmunicipio</td>\n",
       "      <td>22.43</td>\n",
       "    </tr>\n",
       "    <tr>\n",
       "      <th>17</th>\n",
       "      <td>bas.target</td>\n",
       "      <td>0.00</td>\n",
       "    </tr>\n",
       "  </tbody>\n",
       "</table>\n",
       "</div>"
      ],
      "text/plain": [
       "                             0      1\n",
       "0                 bas.tempocpf   3.13\n",
       "1            bas.celularprocon   1.29\n",
       "2            bas.telfixoprocon   1.29\n",
       "3          ren.estimativarenda   1.29\n",
       "4      ren.qtddeclaracaoisenta   1.29\n",
       "5          ren.qtddeclaracao10   1.29\n",
       "6             ren.bolsafamilia   1.29\n",
       "7            emp.indiceemprego   1.29\n",
       "8          emp.porteempregador   1.29\n",
       "9             emp.socioempresa   1.29\n",
       "10      emp.funcionariopublico   1.29\n",
       "11             emp.segmentacao   1.29\n",
       "12     emp.segmentacaocobranca   1.29\n",
       "13          fam.mediarendacasa  62.29\n",
       "14        fam.bolsafamiliacasa  62.29\n",
       "15  fam.funcionariopublicocasa  62.29\n",
       "16            reg.idhmunicipio  22.43\n",
       "17                  bas.target   0.00"
      ]
     },
     "execution_count": 9,
     "metadata": {},
     "output_type": "execute_result"
    }
   ],
   "source": [
    "df_teste = pd.DataFrame(disc_porcent)\n",
    "df_teste"
   ]
  },
  {
   "cell_type": "code",
   "execution_count": 10,
   "metadata": {},
   "outputs": [],
   "source": [
    "df_teste.columns = ['Atributo', ' % ']"
   ]
  },
  {
   "cell_type": "code",
   "execution_count": 11,
   "metadata": {},
   "outputs": [],
   "source": [
    "df_teste.to_excel(\"output.xlsx\")"
   ]
  },
  {
   "cell_type": "code",
   "execution_count": 12,
   "metadata": {},
   "outputs": [
    {
     "data": {
      "image/png": "[encoded data removed]",
      "text/plain": [
       "<Figure size 504x288 with 1 Axes>"
      ]
     },
     "metadata": {
      "needs_background": "light"
     },
     "output_type": "display_data"
    }
   ],
   "source": [
    "# Gráfico mostrando o número de ocorrências do valor -9999 em  cada atributo\n",
    "plt.figure(figsize=(7,4))\n",
    "plt.bar(disc_col_val.keys(), disc_col_val.values(), color='blue' )\n",
    "plt.xticks(rotation='vertical')\n",
    "plt.ylabel('Nº Ocorrências')\n",
    "plt.xlabel('Atributos')\n",
    "plt.title('Nº de ocorrências do valor -9999 por atributo')\n",
    "plt.savefig('nOcorr-9999.png', dpi=300)\n",
    "plt.show()"
   ]
  },
  {
   "cell_type": "markdown",
   "metadata": {},
   "source": [
    "<b>Os atributos que possuem mais de 20% de valores incorretos não serão utilizados na classificação. Sendo assim os seguintes atributos serão deletados da base:</b><br>\n",
    "fam.mediarendacasa<br>\n",
    "fam.bolsafamiliacasa<br>\n",
    "fam.funcionariopublicocasa<br>\n",
    "reg.idhmunicipio\n"
   ]
  },
  {
   "cell_type": "code",
   "execution_count": 13,
   "metadata": {},
   "outputs": [],
   "source": [
    "# apagando colunas da base\n",
    "base_filtrada = base_filtrada.drop(columns=['fam.mediarendacasa',\n",
    "                                   'fam.bolsafamiliacasa',\n",
    "                                   'fam.funcionariopublicocasa',\n",
    "                                   'reg.idhmunicipio'])"
   ]
  },
  {
   "cell_type": "code",
   "execution_count": 14,
   "metadata": {},
   "outputs": [
    {
     "data": {
      "text/html": [
       "<div>\n",
       "<style scoped>\n",
       "    .dataframe tbody tr th:only-of-type {\n",
       "        vertical-align: middle;\n",
       "    }\n",
       "\n",
       "    .dataframe tbody tr th {\n",
       "        vertical-align: top;\n",
       "    }\n",
       "\n",
       "    .dataframe thead th {\n",
       "        text-align: right;\n",
       "    }\n",
       "</style>\n",
       "<table border=\"1\" class=\"dataframe\">\n",
       "  <thead>\n",
       "    <tr style=\"text-align: right;\">\n",
       "      <th></th>\n",
       "      <th>bas.tempocpf</th>\n",
       "      <th>bas.celularprocon</th>\n",
       "      <th>bas.telfixoprocon</th>\n",
       "      <th>ren.estimativarenda</th>\n",
       "      <th>ren.qtddeclaracaoisenta</th>\n",
       "      <th>ren.qtddeclaracao10</th>\n",
       "      <th>ren.bolsafamilia</th>\n",
       "      <th>emp.indiceemprego</th>\n",
       "      <th>emp.porteempregador</th>\n",
       "      <th>emp.socioempresa</th>\n",
       "      <th>emp.funcionariopublico</th>\n",
       "      <th>emp.segmentacao</th>\n",
       "      <th>emp.segmentacaocobranca</th>\n",
       "      <th>bas.target</th>\n",
       "    </tr>\n",
       "  </thead>\n",
       "  <tbody>\n",
       "    <tr>\n",
       "      <th>0</th>\n",
       "      <td>17</td>\n",
       "      <td>1</td>\n",
       "      <td>0</td>\n",
       "      <td>8500</td>\n",
       "      <td>0</td>\n",
       "      <td>2</td>\n",
       "      <td>0</td>\n",
       "      <td>5</td>\n",
       "      <td>2</td>\n",
       "      <td>0</td>\n",
       "      <td>0</td>\n",
       "      <td>4</td>\n",
       "      <td>0</td>\n",
       "      <td>0.0</td>\n",
       "    </tr>\n",
       "    <tr>\n",
       "      <th>1</th>\n",
       "      <td>5</td>\n",
       "      <td>0</td>\n",
       "      <td>0</td>\n",
       "      <td>900</td>\n",
       "      <td>0</td>\n",
       "      <td>0</td>\n",
       "      <td>0</td>\n",
       "      <td>0</td>\n",
       "      <td>0</td>\n",
       "      <td>0</td>\n",
       "      <td>0</td>\n",
       "      <td>2</td>\n",
       "      <td>0</td>\n",
       "      <td>0.0</td>\n",
       "    </tr>\n",
       "    <tr>\n",
       "      <th>2</th>\n",
       "      <td>16</td>\n",
       "      <td>0</td>\n",
       "      <td>0</td>\n",
       "      <td>4500</td>\n",
       "      <td>7</td>\n",
       "      <td>0</td>\n",
       "      <td>0</td>\n",
       "      <td>0</td>\n",
       "      <td>0</td>\n",
       "      <td>0</td>\n",
       "      <td>0</td>\n",
       "      <td>0</td>\n",
       "      <td>0</td>\n",
       "      <td>0.0</td>\n",
       "    </tr>\n",
       "    <tr>\n",
       "      <th>3</th>\n",
       "      <td>11</td>\n",
       "      <td>0</td>\n",
       "      <td>0</td>\n",
       "      <td>3000</td>\n",
       "      <td>0</td>\n",
       "      <td>0</td>\n",
       "      <td>0</td>\n",
       "      <td>0</td>\n",
       "      <td>2</td>\n",
       "      <td>1</td>\n",
       "      <td>0</td>\n",
       "      <td>1</td>\n",
       "      <td>0</td>\n",
       "      <td>0.0</td>\n",
       "    </tr>\n",
       "    <tr>\n",
       "      <th>4</th>\n",
       "      <td>17</td>\n",
       "      <td>0</td>\n",
       "      <td>0</td>\n",
       "      <td>1000</td>\n",
       "      <td>0</td>\n",
       "      <td>0</td>\n",
       "      <td>0</td>\n",
       "      <td>3</td>\n",
       "      <td>2</td>\n",
       "      <td>0</td>\n",
       "      <td>0</td>\n",
       "      <td>0</td>\n",
       "      <td>0</td>\n",
       "      <td>0.0</td>\n",
       "    </tr>\n",
       "  </tbody>\n",
       "</table>\n",
       "</div>"
      ],
      "text/plain": [
       "   bas.tempocpf  bas.celularprocon  bas.telfixoprocon  ren.estimativarenda  \\\n",
       "0            17                  1                  0                 8500   \n",
       "1             5                  0                  0                  900   \n",
       "2            16                  0                  0                 4500   \n",
       "3            11                  0                  0                 3000   \n",
       "4            17                  0                  0                 1000   \n",
       "\n",
       "   ren.qtddeclaracaoisenta  ren.qtddeclaracao10  ren.bolsafamilia  \\\n",
       "0                        0                    2                 0   \n",
       "1                        0                    0                 0   \n",
       "2                        7                    0                 0   \n",
       "3                        0                    0                 0   \n",
       "4                        0                    0                 0   \n",
       "\n",
       "   emp.indiceemprego  emp.porteempregador  emp.socioempresa  \\\n",
       "0                  5                    2                 0   \n",
       "1                  0                    0                 0   \n",
       "2                  0                    0                 0   \n",
       "3                  0                    2                 1   \n",
       "4                  3                    2                 0   \n",
       "\n",
       "   emp.funcionariopublico  emp.segmentacao  emp.segmentacaocobranca  \\\n",
       "0                       0                4                        0   \n",
       "1                       0                2                        0   \n",
       "2                       0                0                        0   \n",
       "3                       0                1                        0   \n",
       "4                       0                0                        0   \n",
       "\n",
       "   bas.target  \n",
       "0         0.0  \n",
       "1         0.0  \n",
       "2         0.0  \n",
       "3         0.0  \n",
       "4         0.0  "
      ]
     },
     "execution_count": 14,
     "metadata": {},
     "output_type": "execute_result"
    }
   ],
   "source": [
    "base_filtrada.head()"
   ]
  },
  {
   "cell_type": "code",
   "execution_count": 15,
   "metadata": {},
   "outputs": [
    {
     "name": "stdout",
     "output_type": "stream",
     "text": [
      "Numero de linhas: 438924\n",
      "Numero de colunas: 14\n"
     ]
    }
   ],
   "source": [
    "#exibindo o numero de linhas e colunas do dataset\n",
    "base_filtrada.shape\n",
    "print('Numero de linhas: {:.0f}'.format(base_filtrada.shape[0]))\n",
    "print('Numero de colunas: {:.0f}'.format(base_filtrada.shape[1]))"
   ]
  },
  {
   "cell_type": "markdown",
   "metadata": {},
   "source": [
    "<br><b>Como ainda existem instância com valor incorretos será necessário efetuar a substituição desses valores.<br>\n",
    "O Comando a baixo subsitui os valores incorretos pelo valor mais frequente em casa atributo."
   ]
  },
  {
   "cell_type": "code",
   "execution_count": 16,
   "metadata": {},
   "outputs": [],
   "source": [
    "# Substituindo valores incorreots pelos valores mais frequentes \n",
    "from sklearn.impute import SimpleImputer\n",
    "for column in base_filtrada:\n",
    "    imputer = SimpleImputer(missing_values = -9999, strategy = 'most_frequent')\n",
    "    imputer = imputer.fit(base_filtrada[[column]])\n",
    "    base_filtrada[[column]] = imputer.transform(base_filtrada[[column]])"
   ]
  },
  {
   "cell_type": "code",
   "execution_count": 17,
   "metadata": {},
   "outputs": [
    {
     "data": {
      "text/html": [
       "<div>\n",
       "<style scoped>\n",
       "    .dataframe tbody tr th:only-of-type {\n",
       "        vertical-align: middle;\n",
       "    }\n",
       "\n",
       "    .dataframe tbody tr th {\n",
       "        vertical-align: top;\n",
       "    }\n",
       "\n",
       "    .dataframe thead th {\n",
       "        text-align: right;\n",
       "    }\n",
       "</style>\n",
       "<table border=\"1\" class=\"dataframe\">\n",
       "  <thead>\n",
       "    <tr style=\"text-align: right;\">\n",
       "      <th></th>\n",
       "      <th>bas.tempocpf</th>\n",
       "      <th>bas.celularprocon</th>\n",
       "      <th>bas.telfixoprocon</th>\n",
       "      <th>ren.estimativarenda</th>\n",
       "      <th>ren.qtddeclaracaoisenta</th>\n",
       "      <th>ren.qtddeclaracao10</th>\n",
       "      <th>ren.bolsafamilia</th>\n",
       "      <th>emp.indiceemprego</th>\n",
       "      <th>emp.porteempregador</th>\n",
       "      <th>emp.socioempresa</th>\n",
       "      <th>emp.funcionariopublico</th>\n",
       "      <th>emp.segmentacao</th>\n",
       "      <th>emp.segmentacaocobranca</th>\n",
       "      <th>bas.target</th>\n",
       "    </tr>\n",
       "  </thead>\n",
       "  <tbody>\n",
       "    <tr>\n",
       "      <th>0</th>\n",
       "      <td>17</td>\n",
       "      <td>1</td>\n",
       "      <td>0</td>\n",
       "      <td>8500</td>\n",
       "      <td>0</td>\n",
       "      <td>2</td>\n",
       "      <td>0</td>\n",
       "      <td>5</td>\n",
       "      <td>2</td>\n",
       "      <td>0</td>\n",
       "      <td>0</td>\n",
       "      <td>4</td>\n",
       "      <td>0</td>\n",
       "      <td>0.0</td>\n",
       "    </tr>\n",
       "    <tr>\n",
       "      <th>1</th>\n",
       "      <td>5</td>\n",
       "      <td>0</td>\n",
       "      <td>0</td>\n",
       "      <td>900</td>\n",
       "      <td>0</td>\n",
       "      <td>0</td>\n",
       "      <td>0</td>\n",
       "      <td>0</td>\n",
       "      <td>0</td>\n",
       "      <td>0</td>\n",
       "      <td>0</td>\n",
       "      <td>2</td>\n",
       "      <td>0</td>\n",
       "      <td>0.0</td>\n",
       "    </tr>\n",
       "    <tr>\n",
       "      <th>2</th>\n",
       "      <td>16</td>\n",
       "      <td>0</td>\n",
       "      <td>0</td>\n",
       "      <td>4500</td>\n",
       "      <td>7</td>\n",
       "      <td>0</td>\n",
       "      <td>0</td>\n",
       "      <td>0</td>\n",
       "      <td>0</td>\n",
       "      <td>0</td>\n",
       "      <td>0</td>\n",
       "      <td>0</td>\n",
       "      <td>0</td>\n",
       "      <td>0.0</td>\n",
       "    </tr>\n",
       "    <tr>\n",
       "      <th>3</th>\n",
       "      <td>11</td>\n",
       "      <td>0</td>\n",
       "      <td>0</td>\n",
       "      <td>3000</td>\n",
       "      <td>0</td>\n",
       "      <td>0</td>\n",
       "      <td>0</td>\n",
       "      <td>0</td>\n",
       "      <td>2</td>\n",
       "      <td>1</td>\n",
       "      <td>0</td>\n",
       "      <td>1</td>\n",
       "      <td>0</td>\n",
       "      <td>0.0</td>\n",
       "    </tr>\n",
       "    <tr>\n",
       "      <th>4</th>\n",
       "      <td>17</td>\n",
       "      <td>0</td>\n",
       "      <td>0</td>\n",
       "      <td>1000</td>\n",
       "      <td>0</td>\n",
       "      <td>0</td>\n",
       "      <td>0</td>\n",
       "      <td>3</td>\n",
       "      <td>2</td>\n",
       "      <td>0</td>\n",
       "      <td>0</td>\n",
       "      <td>0</td>\n",
       "      <td>0</td>\n",
       "      <td>0.0</td>\n",
       "    </tr>\n",
       "    <tr>\n",
       "      <th>5</th>\n",
       "      <td>6</td>\n",
       "      <td>0</td>\n",
       "      <td>0</td>\n",
       "      <td>1100</td>\n",
       "      <td>0</td>\n",
       "      <td>0</td>\n",
       "      <td>0</td>\n",
       "      <td>2</td>\n",
       "      <td>4</td>\n",
       "      <td>0</td>\n",
       "      <td>0</td>\n",
       "      <td>0</td>\n",
       "      <td>0</td>\n",
       "      <td>0.0</td>\n",
       "    </tr>\n",
       "    <tr>\n",
       "      <th>6</th>\n",
       "      <td>6</td>\n",
       "      <td>0</td>\n",
       "      <td>0</td>\n",
       "      <td>800</td>\n",
       "      <td>0</td>\n",
       "      <td>0</td>\n",
       "      <td>0</td>\n",
       "      <td>0</td>\n",
       "      <td>0</td>\n",
       "      <td>0</td>\n",
       "      <td>0</td>\n",
       "      <td>1</td>\n",
       "      <td>0</td>\n",
       "      <td>0.0</td>\n",
       "    </tr>\n",
       "    <tr>\n",
       "      <th>7</th>\n",
       "      <td>25</td>\n",
       "      <td>0</td>\n",
       "      <td>0</td>\n",
       "      <td>1000</td>\n",
       "      <td>0</td>\n",
       "      <td>0</td>\n",
       "      <td>0</td>\n",
       "      <td>0</td>\n",
       "      <td>0</td>\n",
       "      <td>1</td>\n",
       "      <td>0</td>\n",
       "      <td>4</td>\n",
       "      <td>0</td>\n",
       "      <td>0.0</td>\n",
       "    </tr>\n",
       "    <tr>\n",
       "      <th>8</th>\n",
       "      <td>11</td>\n",
       "      <td>0</td>\n",
       "      <td>0</td>\n",
       "      <td>1100</td>\n",
       "      <td>0</td>\n",
       "      <td>0</td>\n",
       "      <td>0</td>\n",
       "      <td>3</td>\n",
       "      <td>4</td>\n",
       "      <td>0</td>\n",
       "      <td>0</td>\n",
       "      <td>5</td>\n",
       "      <td>1</td>\n",
       "      <td>0.0</td>\n",
       "    </tr>\n",
       "    <tr>\n",
       "      <th>9</th>\n",
       "      <td>5</td>\n",
       "      <td>0</td>\n",
       "      <td>0</td>\n",
       "      <td>900</td>\n",
       "      <td>0</td>\n",
       "      <td>0</td>\n",
       "      <td>0</td>\n",
       "      <td>0</td>\n",
       "      <td>0</td>\n",
       "      <td>0</td>\n",
       "      <td>0</td>\n",
       "      <td>1</td>\n",
       "      <td>0</td>\n",
       "      <td>0.0</td>\n",
       "    </tr>\n",
       "    <tr>\n",
       "      <th>10</th>\n",
       "      <td>11</td>\n",
       "      <td>0</td>\n",
       "      <td>0</td>\n",
       "      <td>900</td>\n",
       "      <td>0</td>\n",
       "      <td>0</td>\n",
       "      <td>0</td>\n",
       "      <td>0</td>\n",
       "      <td>2</td>\n",
       "      <td>1</td>\n",
       "      <td>0</td>\n",
       "      <td>0</td>\n",
       "      <td>0</td>\n",
       "      <td>0.0</td>\n",
       "    </tr>\n",
       "    <tr>\n",
       "      <th>11</th>\n",
       "      <td>15</td>\n",
       "      <td>0</td>\n",
       "      <td>0</td>\n",
       "      <td>400</td>\n",
       "      <td>0</td>\n",
       "      <td>0</td>\n",
       "      <td>1</td>\n",
       "      <td>0</td>\n",
       "      <td>0</td>\n",
       "      <td>0</td>\n",
       "      <td>0</td>\n",
       "      <td>0</td>\n",
       "      <td>0</td>\n",
       "      <td>0.0</td>\n",
       "    </tr>\n",
       "    <tr>\n",
       "      <th>12</th>\n",
       "      <td>5</td>\n",
       "      <td>0</td>\n",
       "      <td>0</td>\n",
       "      <td>1000</td>\n",
       "      <td>0</td>\n",
       "      <td>0</td>\n",
       "      <td>0</td>\n",
       "      <td>3</td>\n",
       "      <td>3</td>\n",
       "      <td>0</td>\n",
       "      <td>0</td>\n",
       "      <td>0</td>\n",
       "      <td>0</td>\n",
       "      <td>0.0</td>\n",
       "    </tr>\n",
       "    <tr>\n",
       "      <th>13</th>\n",
       "      <td>13</td>\n",
       "      <td>0</td>\n",
       "      <td>0</td>\n",
       "      <td>4500</td>\n",
       "      <td>2</td>\n",
       "      <td>7</td>\n",
       "      <td>0</td>\n",
       "      <td>5</td>\n",
       "      <td>4</td>\n",
       "      <td>0</td>\n",
       "      <td>0</td>\n",
       "      <td>0</td>\n",
       "      <td>0</td>\n",
       "      <td>0.0</td>\n",
       "    </tr>\n",
       "    <tr>\n",
       "      <th>14</th>\n",
       "      <td>26</td>\n",
       "      <td>0</td>\n",
       "      <td>0</td>\n",
       "      <td>1100</td>\n",
       "      <td>0</td>\n",
       "      <td>0</td>\n",
       "      <td>0</td>\n",
       "      <td>4</td>\n",
       "      <td>1</td>\n",
       "      <td>0</td>\n",
       "      <td>0</td>\n",
       "      <td>4</td>\n",
       "      <td>0</td>\n",
       "      <td>0.0</td>\n",
       "    </tr>\n",
       "  </tbody>\n",
       "</table>\n",
       "</div>"
      ],
      "text/plain": [
       "    bas.tempocpf  bas.celularprocon  bas.telfixoprocon  ren.estimativarenda  \\\n",
       "0             17                  1                  0                 8500   \n",
       "1              5                  0                  0                  900   \n",
       "2             16                  0                  0                 4500   \n",
       "3             11                  0                  0                 3000   \n",
       "4             17                  0                  0                 1000   \n",
       "5              6                  0                  0                 1100   \n",
       "6              6                  0                  0                  800   \n",
       "7             25                  0                  0                 1000   \n",
       "8             11                  0                  0                 1100   \n",
       "9              5                  0                  0                  900   \n",
       "10            11                  0                  0                  900   \n",
       "11            15                  0                  0                  400   \n",
       "12             5                  0                  0                 1000   \n",
       "13            13                  0                  0                 4500   \n",
       "14            26                  0                  0                 1100   \n",
       "\n",
       "    ren.qtddeclaracaoisenta  ren.qtddeclaracao10  ren.bolsafamilia  \\\n",
       "0                         0                    2                 0   \n",
       "1                         0                    0                 0   \n",
       "2                         7                    0                 0   \n",
       "3                         0                    0                 0   \n",
       "4                         0                    0                 0   \n",
       "5                         0                    0                 0   \n",
       "6                         0                    0                 0   \n",
       "7                         0                    0                 0   \n",
       "8                         0                    0                 0   \n",
       "9                         0                    0                 0   \n",
       "10                        0                    0                 0   \n",
       "11                        0                    0                 1   \n",
       "12                        0                    0                 0   \n",
       "13                        2                    7                 0   \n",
       "14                        0                    0                 0   \n",
       "\n",
       "    emp.indiceemprego  emp.porteempregador  emp.socioempresa  \\\n",
       "0                   5                    2                 0   \n",
       "1                   0                    0                 0   \n",
       "2                   0                    0                 0   \n",
       "3                   0                    2                 1   \n",
       "4                   3                    2                 0   \n",
       "5                   2                    4                 0   \n",
       "6                   0                    0                 0   \n",
       "7                   0                    0                 1   \n",
       "8                   3                    4                 0   \n",
       "9                   0                    0                 0   \n",
       "10                  0                    2                 1   \n",
       "11                  0                    0                 0   \n",
       "12                  3                    3                 0   \n",
       "13                  5                    4                 0   \n",
       "14                  4                    1                 0   \n",
       "\n",
       "    emp.funcionariopublico  emp.segmentacao  emp.segmentacaocobranca  \\\n",
       "0                        0                4                        0   \n",
       "1                        0                2                        0   \n",
       "2                        0                0                        0   \n",
       "3                        0                1                        0   \n",
       "4                        0                0                        0   \n",
       "5                        0                0                        0   \n",
       "6                        0                1                        0   \n",
       "7                        0                4                        0   \n",
       "8                        0                5                        1   \n",
       "9                        0                1                        0   \n",
       "10                       0                0                        0   \n",
       "11                       0                0                        0   \n",
       "12                       0                0                        0   \n",
       "13                       0                0                        0   \n",
       "14                       0                4                        0   \n",
       "\n",
       "    bas.target  \n",
       "0          0.0  \n",
       "1          0.0  \n",
       "2          0.0  \n",
       "3          0.0  \n",
       "4          0.0  \n",
       "5          0.0  \n",
       "6          0.0  \n",
       "7          0.0  \n",
       "8          0.0  \n",
       "9          0.0  \n",
       "10         0.0  \n",
       "11         0.0  \n",
       "12         0.0  \n",
       "13         0.0  \n",
       "14         0.0  "
      ]
     },
     "execution_count": 17,
     "metadata": {},
     "output_type": "execute_result"
    }
   ],
   "source": [
    "base_filtrada.head(15)"
   ]
  },
  {
   "cell_type": "code",
   "execution_count": 119,
   "metadata": {},
   "outputs": [
    {
     "name": "stdout",
     "output_type": "stream",
     "text": [
      "O atributo bas.tempocpf NÃO possui ocorrências do valor -9999\n",
      "O atributo bas.celularprocon NÃO possui ocorrências do valor -9999\n",
      "O atributo bas.telfixoprocon NÃO possui ocorrências do valor -9999\n",
      "O atributo ren.estimativarenda NÃO possui ocorrências do valor -9999\n",
      "O atributo ren.qtddeclaracaoisenta NÃO possui ocorrências do valor -9999\n",
      "O atributo ren.qtddeclaracao10 NÃO possui ocorrências do valor -9999\n",
      "O atributo ren.bolsafamilia NÃO possui ocorrências do valor -9999\n",
      "O atributo emp.indiceemprego NÃO possui ocorrências do valor -9999\n",
      "O atributo emp.porteempregador NÃO possui ocorrências do valor -9999\n",
      "O atributo emp.socioempresa NÃO possui ocorrências do valor -9999\n",
      "O atributo emp.funcionariopublico NÃO possui ocorrências do valor -9999\n",
      "O atributo emp.segmentacao NÃO possui ocorrências do valor -9999\n",
      "O atributo emp.segmentacaocobranca NÃO possui ocorrências do valor -9999\n",
      "O atributo bas.target NÃO possui ocorrências do valor -9999\n"
     ]
    }
   ],
   "source": [
    "# Mostrando a quantidade de valores -9999 em cada atributo\n",
    "for column in base_filtrada:\n",
    "    val = base_filtrada[column].value_counts()\n",
    "    porcento = base_filtrada[column].value_counts(normalize=True)\n",
    "    try:\n",
    "        print(f'Numero de ocorrências do valor -9999 para o atributo {column} = {val[-9999]}')\n",
    "        print(f'Porcentagem de ocorrencias valor -9999 para o atributo {column}= {porcento[-9999]*100} %')\n",
    "        print('')\n",
    "    except:\n",
    "        print(f'O atributo {column} NÃO possui ocorrências do valor -9999')"
   ]
  },
  {
   "cell_type": "markdown",
   "metadata": {},
   "source": [
    "<b>Como mostra o comando acima, os valores incorretos foram retirados da base.<br><br>"
   ]
  },
  {
   "cell_type": "code",
   "execution_count": 19,
   "metadata": {},
   "outputs": [
    {
     "data": {
      "text/plain": [
       "bas.tempocpf                 16.056165\n",
       "bas.celularprocon             0.002456\n",
       "bas.telfixoprocon             0.011134\n",
       "ren.estimativarenda        3069.124723\n",
       "ren.qtddeclaracaoisenta       1.049851\n",
       "ren.qtddeclaracao10           1.568185\n",
       "ren.bolsafamilia              0.040829\n",
       "emp.indiceemprego             1.478103\n",
       "emp.porteempregador           0.821712\n",
       "emp.socioempresa              0.083851\n",
       "emp.funcionariopublico        0.090740\n",
       "emp.segmentacao               0.570377\n",
       "emp.segmentacaocobranca       0.034022\n",
       "bas.target                    0.096315\n",
       "dtype: float64"
      ]
     },
     "execution_count": 19,
     "metadata": {},
     "output_type": "execute_result"
    }
   ],
   "source": [
    "# mostrando a média de cada atributo \n",
    "base_filtrada.mean()"
   ]
  },
  {
   "cell_type": "markdown",
   "metadata": {},
   "source": [
    "<b>O comando acima mostrá como a os valores da base estão fora de escala"
   ]
  },
  {
   "cell_type": "markdown",
   "metadata": {},
   "source": [
    "<b>Em seguida será aplicado o método MinMaxScaler com o intuito de deixas os valores no mesma escala."
   ]
  },
  {
   "cell_type": "code",
   "execution_count": 20,
   "metadata": {},
   "outputs": [],
   "source": [
    "from sklearn import preprocessing\n",
    "\n",
    "min_max_scaler = preprocessing.MinMaxScaler()\n",
    "np_scaled = min_max_scaler.fit_transform(base_filtrada)\n",
    "base_filtrada = pd.DataFrame(np_scaled, columns=base_filtrada.columns)"
   ]
  },
  {
   "cell_type": "code",
   "execution_count": 120,
   "metadata": {},
   "outputs": [
    {
     "data": {
      "text/html": [
       "<div>\n",
       "<style scoped>\n",
       "    .dataframe tbody tr th:only-of-type {\n",
       "        vertical-align: middle;\n",
       "    }\n",
       "\n",
       "    .dataframe tbody tr th {\n",
       "        vertical-align: top;\n",
       "    }\n",
       "\n",
       "    .dataframe thead th {\n",
       "        text-align: right;\n",
       "    }\n",
       "</style>\n",
       "<table border=\"1\" class=\"dataframe\">\n",
       "  <thead>\n",
       "    <tr style=\"text-align: right;\">\n",
       "      <th></th>\n",
       "      <th>bas.tempocpf</th>\n",
       "      <th>bas.celularprocon</th>\n",
       "      <th>bas.telfixoprocon</th>\n",
       "      <th>ren.estimativarenda</th>\n",
       "      <th>ren.qtddeclaracaoisenta</th>\n",
       "      <th>ren.qtddeclaracao10</th>\n",
       "      <th>ren.bolsafamilia</th>\n",
       "      <th>emp.indiceemprego</th>\n",
       "      <th>emp.porteempregador</th>\n",
       "      <th>emp.socioempresa</th>\n",
       "      <th>emp.funcionariopublico</th>\n",
       "      <th>emp.segmentacao</th>\n",
       "      <th>emp.segmentacaocobranca</th>\n",
       "      <th>bas.target</th>\n",
       "    </tr>\n",
       "  </thead>\n",
       "  <tbody>\n",
       "    <tr>\n",
       "      <th>0</th>\n",
       "      <td>0.629630</td>\n",
       "      <td>1.0</td>\n",
       "      <td>0.0</td>\n",
       "      <td>0.273649</td>\n",
       "      <td>0.000000</td>\n",
       "      <td>0.2</td>\n",
       "      <td>0.0</td>\n",
       "      <td>0.833333</td>\n",
       "      <td>0.5</td>\n",
       "      <td>0.0</td>\n",
       "      <td>0.0</td>\n",
       "      <td>0.8</td>\n",
       "      <td>0.0</td>\n",
       "      <td>0.0</td>\n",
       "    </tr>\n",
       "    <tr>\n",
       "      <th>1</th>\n",
       "      <td>0.185185</td>\n",
       "      <td>0.0</td>\n",
       "      <td>0.0</td>\n",
       "      <td>0.016892</td>\n",
       "      <td>0.000000</td>\n",
       "      <td>0.0</td>\n",
       "      <td>0.0</td>\n",
       "      <td>0.000000</td>\n",
       "      <td>0.0</td>\n",
       "      <td>0.0</td>\n",
       "      <td>0.0</td>\n",
       "      <td>0.4</td>\n",
       "      <td>0.0</td>\n",
       "      <td>0.0</td>\n",
       "    </tr>\n",
       "    <tr>\n",
       "      <th>2</th>\n",
       "      <td>0.592593</td>\n",
       "      <td>0.0</td>\n",
       "      <td>0.0</td>\n",
       "      <td>0.138514</td>\n",
       "      <td>0.777778</td>\n",
       "      <td>0.0</td>\n",
       "      <td>0.0</td>\n",
       "      <td>0.000000</td>\n",
       "      <td>0.0</td>\n",
       "      <td>0.0</td>\n",
       "      <td>0.0</td>\n",
       "      <td>0.0</td>\n",
       "      <td>0.0</td>\n",
       "      <td>0.0</td>\n",
       "    </tr>\n",
       "    <tr>\n",
       "      <th>3</th>\n",
       "      <td>0.407407</td>\n",
       "      <td>0.0</td>\n",
       "      <td>0.0</td>\n",
       "      <td>0.087838</td>\n",
       "      <td>0.000000</td>\n",
       "      <td>0.0</td>\n",
       "      <td>0.0</td>\n",
       "      <td>0.000000</td>\n",
       "      <td>0.5</td>\n",
       "      <td>1.0</td>\n",
       "      <td>0.0</td>\n",
       "      <td>0.2</td>\n",
       "      <td>0.0</td>\n",
       "      <td>0.0</td>\n",
       "    </tr>\n",
       "    <tr>\n",
       "      <th>4</th>\n",
       "      <td>0.629630</td>\n",
       "      <td>0.0</td>\n",
       "      <td>0.0</td>\n",
       "      <td>0.020270</td>\n",
       "      <td>0.000000</td>\n",
       "      <td>0.0</td>\n",
       "      <td>0.0</td>\n",
       "      <td>0.500000</td>\n",
       "      <td>0.5</td>\n",
       "      <td>0.0</td>\n",
       "      <td>0.0</td>\n",
       "      <td>0.0</td>\n",
       "      <td>0.0</td>\n",
       "      <td>0.0</td>\n",
       "    </tr>\n",
       "  </tbody>\n",
       "</table>\n",
       "</div>"
      ],
      "text/plain": [
       "   bas.tempocpf  bas.celularprocon  bas.telfixoprocon  ren.estimativarenda  \\\n",
       "0      0.629630                1.0                0.0             0.273649   \n",
       "1      0.185185                0.0                0.0             0.016892   \n",
       "2      0.592593                0.0                0.0             0.138514   \n",
       "3      0.407407                0.0                0.0             0.087838   \n",
       "4      0.629630                0.0                0.0             0.020270   \n",
       "\n",
       "   ren.qtddeclaracaoisenta  ren.qtddeclaracao10  ren.bolsafamilia  \\\n",
       "0                 0.000000                  0.2               0.0   \n",
       "1                 0.000000                  0.0               0.0   \n",
       "2                 0.777778                  0.0               0.0   \n",
       "3                 0.000000                  0.0               0.0   \n",
       "4                 0.000000                  0.0               0.0   \n",
       "\n",
       "   emp.indiceemprego  emp.porteempregador  emp.socioempresa  \\\n",
       "0           0.833333                  0.5               0.0   \n",
       "1           0.000000                  0.0               0.0   \n",
       "2           0.000000                  0.0               0.0   \n",
       "3           0.000000                  0.5               1.0   \n",
       "4           0.500000                  0.5               0.0   \n",
       "\n",
       "   emp.funcionariopublico  emp.segmentacao  emp.segmentacaocobranca  \\\n",
       "0                     0.0              0.8                      0.0   \n",
       "1                     0.0              0.4                      0.0   \n",
       "2                     0.0              0.0                      0.0   \n",
       "3                     0.0              0.2                      0.0   \n",
       "4                     0.0              0.0                      0.0   \n",
       "\n",
       "   bas.target  \n",
       "0         0.0  \n",
       "1         0.0  \n",
       "2         0.0  \n",
       "3         0.0  \n",
       "4         0.0  "
      ]
     },
     "execution_count": 120,
     "metadata": {},
     "output_type": "execute_result"
    }
   ],
   "source": [
    "base_filtrada.head()"
   ]
  },
  {
   "cell_type": "code",
   "execution_count": 121,
   "metadata": {},
   "outputs": [
    {
     "data": {
      "text/plain": [
       "bas.tempocpf               0.594673\n",
       "bas.celularprocon          0.002456\n",
       "bas.telfixoprocon          0.011134\n",
       "ren.estimativarenda        0.090173\n",
       "ren.qtddeclaracaoisenta    0.116650\n",
       "ren.qtddeclaracao10        0.156818\n",
       "ren.bolsafamilia           0.040829\n",
       "emp.indiceemprego          0.246351\n",
       "emp.porteempregador        0.205428\n",
       "emp.socioempresa           0.083851\n",
       "emp.funcionariopublico     0.090740\n",
       "emp.segmentacao            0.114075\n",
       "emp.segmentacaocobranca    0.006804\n",
       "bas.target                 0.096315\n",
       "dtype: float64"
      ]
     },
     "execution_count": 121,
     "metadata": {},
     "output_type": "execute_result"
    }
   ],
   "source": [
    "# mostrando a média de cada atributo \n",
    "base_filtrada.mean()"
   ]
  },
  {
   "cell_type": "markdown",
   "metadata": {},
   "source": [
    "<b>--------------------------------------------------------------------------------------------------------------------------------------------------------------------------------------------------------------"
   ]
  },
  {
   "cell_type": "markdown",
   "metadata": {},
   "source": [
    "<b>O proximo passo é dividr as bases de treino e teste em treino_previsores, treino_classe, teste_previsores e teste_classe."
   ]
  },
  {
   "cell_type": "code",
   "execution_count": 22,
   "metadata": {},
   "outputs": [],
   "source": [
    "# Separando a base em previdores e classe\n",
    "previsores = base_filtrada.iloc[:, 0:13]\n",
    "classe = base_filtrada.iloc[:, 13]"
   ]
  },
  {
   "cell_type": "code",
   "execution_count": 23,
   "metadata": {},
   "outputs": [],
   "source": [
    "from sklearn.model_selection import train_test_split\n",
    "base_treino_previsores, base_teste_previsores, base_treino_classe, base_teste_classe = train_test_split(previsores, classe, test_size=0.20, random_state=0)"
   ]
  },
  {
   "cell_type": "markdown",
   "metadata": {},
   "source": [
    "<br><b>----------------------------------------------------------------------------------------------------------------------------------------------------------------------------------<br>\n",
    "    Na célula abaixo estão todos os classificadores. "
   ]
  },
  {
   "cell_type": "code",
   "execution_count": 89,
   "metadata": {},
   "outputs": [],
   "source": [
    "# importação das bibliotecas\n",
    "from sklearn import tree\n",
    "from sklearn.ensemble import RandomForestClassifier\n",
    "from sklearn.naive_bayes import GaussianNB\n",
    "from sklearn.linear_model import LogisticRegression\n",
    "from sklearn.neighbors import KNeighborsClassifier \n",
    "from sklearn import  model_selection\n",
    "from sklearn.metrics import classification_report, confusion_matrix, accuracy_score\n",
    "import matplotlib.pyplot as plt\n",
    "import sklearn.metrics as metrics\n",
    "\n",
    "\n",
    "def curvaROC(X_test, y_test, model):\n",
    "    probs = model.predict_proba(X_test)\n",
    "    preds = probs[:,1]\n",
    "    fpr, tpr, threshold = metrics.roc_curve(y_test, preds)\n",
    "    roc_auc = metrics.auc(fpr, tpr)\n",
    "    plt.title('Receiver Operating Characteristic')\n",
    "    plt.plot(fpr, tpr, 'b', label = 'AUC = %0.2f' % roc_auc)\n",
    "    plt.legend(loc = 'lower right')\n",
    "    plt.plot([0, 1], [0, 1],'r--')\n",
    "    plt.xlim([0, 1])\n",
    "    plt.ylim([0, 1])\n",
    "    plt.ylabel('True Positive Rate')\n",
    "    plt.xlabel('False Positive Rate')\n",
    "    plt.show()\n",
    "\n",
    "# Definição dos classificadores utilizados\n",
    "\n",
    "def RunDecisionTreeClassifier(X_treino, y_treino, X_teste, y_teste):\n",
    "    dtc = tree.DecisionTreeClassifier()\n",
    "    dtc.fit(X_treino, y_treino)\n",
    "    predictedTree=dtc.predict(X_teste)\n",
    "    matrizTree = confusion_matrix(y_teste, predictedTree)\n",
    "    resultTree = classification_report(y_pred=predictedTree, y_true=y_teste)\n",
    "    curvaROC(X_teste, y_teste, dtc)\n",
    "    return matrizTree, resultTree\n",
    "\n",
    "def RunRandomForestClassifier(X_treino, y_treino, X_teste, y_teste):\n",
    "    rfc = RandomForestClassifier(n_estimators=120, criterion='entropy', random_state=0)\n",
    "    rfc.fit(X_treino, y_treino)\n",
    "    predictedRandom=rfc.predict(X_teste)\n",
    "    matrizRandom = confusion_matrix(y_teste, predictedRandom)\n",
    "    resultRandom = classification_report(y_pred=predictedRandom, y_true=y_teste)\n",
    "    curvaROC(X_teste, y_teste, rfc)\n",
    "    return matrizRandom, resultRandom\n",
    "\n",
    "def RunGaussianNB(X_treino, y_treino, X_teste, y_teste):\n",
    "    gnb = GaussianNB()\n",
    "    gnb.fit(X_treino, y_treino)\n",
    "    predictedGNB=gnb.predict(X_teste)\n",
    "    matrizGNB = confusion_matrix(y_teste, predictedGNB)\n",
    "    resultGNB = classification_report(y_pred=predictedGNB, y_true=y_teste)\n",
    "    curvaROC(X_teste, y_teste, gnb)\n",
    "    return matrizGNB, resultGNB\n",
    "\n",
    "def RunLogisticRegression(X_treino, y_treino, X_teste, y_teste):\n",
    "    lr = LogisticRegression()\n",
    "    lr.fit(X_treino, y_treino)\n",
    "    predictedLR=lr.predict(X_teste)\n",
    "    matrizLR = confusion_matrix(y_teste, predictedLR)\n",
    "    resultLR = classification_report(y_pred=predictedLR, y_true=y_teste)\n",
    "    curvaROC(X_teste, y_teste, lr)\n",
    "    return matrizLR, resultLR\n",
    "\n",
    "def RunKNeighborsClassifier(X_treino, y_treino, X_teste, y_teste):\n",
    "    knn = classifier = KNeighborsClassifier(n_neighbors=5)\n",
    "    knn.fit(X_treino, y_treino)\n",
    "    predictedKNN=knn.predict(X_teste)\n",
    "    matrizKNN = confusion_matrix(y_teste, predictedKNN)\n",
    "    resultKNN = classification_report(y_pred=predictedKNN, y_true=y_teste)\n",
    "    curvaROC(X_teste, y_teste, knn)\n",
    "    return matrizKNN, resultKNN"
   ]
  },
  {
   "cell_type": "markdown",
   "metadata": {},
   "source": [
    "<b><br>Os comando abaixo mostram o numero de ocorrencias do atributo alvo.<br>\n",
    "    0.0 -> adimplente<br>\n",
    "    1.0 -> inadimplente"
   ]
  },
  {
   "cell_type": "markdown",
   "metadata": {},
   "source": [
    "<b>Porcentagem da base final"
   ]
  },
  {
   "cell_type": "code",
   "execution_count": 25,
   "metadata": {},
   "outputs": [
    {
     "data": {
      "text/plain": [
       "0.0    396649\n",
       "1.0     42275\n",
       "Name: bas.target, dtype: int64"
      ]
     },
     "execution_count": 25,
     "metadata": {},
     "output_type": "execute_result"
    }
   ],
   "source": [
    "nClassesBase = base_filtrada['bas.target'].value_counts()\n",
    "nClassesBase"
   ]
  },
  {
   "cell_type": "code",
   "execution_count": 26,
   "metadata": {},
   "outputs": [
    {
     "data": {
      "image/png": "[encoded data removed]",
      "text/plain": [
       "<Figure size 432x288 with 1 Axes>"
      ]
     },
     "metadata": {},
     "output_type": "display_data"
    }
   ],
   "source": [
    "labels = ['0.0 -> Adimplentes', '1.0 -> Inadimplentes']\n",
    "explode = (0.1, 0)\n",
    "plt.pie(nClassesBase, labels=nClassesBase.values, autopct='%1.1f%%', explode=explode)\n",
    "plt.legend(labels, loc=3 )\n",
    "plt.title('Porcentagem de ocorrências dos valores da classe alvo');\n",
    "plt.savefig('porcentPizza.png', dpi=300)\n",
    "plt.show()"
   ]
  },
  {
   "cell_type": "markdown",
   "metadata": {},
   "source": [
    "<br><b>Porcentagem da base de treino"
   ]
  },
  {
   "cell_type": "code",
   "execution_count": 27,
   "metadata": {},
   "outputs": [
    {
     "data": {
      "text/plain": [
       "0.0    317386\n",
       "1.0     33753\n",
       "Name: bas.target, dtype: int64"
      ]
     },
     "execution_count": 27,
     "metadata": {},
     "output_type": "execute_result"
    }
   ],
   "source": [
    "nClassesTreino = base_treino_classe.value_counts()\n",
    "nClassesTreino"
   ]
  },
  {
   "cell_type": "code",
   "execution_count": 28,
   "metadata": {},
   "outputs": [
    {
     "data": {
      "image/png": "[encoded data removed]",
      "text/plain": [
       "<Figure size 432x288 with 1 Axes>"
      ]
     },
     "metadata": {},
     "output_type": "display_data"
    }
   ],
   "source": [
    "labels = ['0.0 -> Adimplentes', '1.0 -> Inadimplentes']\n",
    "explode = (0.1, 0)\n",
    "plt.pie(nClassesTreino, labels=nClassesTreino.values, autopct='%1.1f%%', explode=explode)\n",
    "plt.legend(labels, loc=3 )\n",
    "plt.title('Porcentagem de ocorrências dos valores da classe alvo na Base de treino');\n",
    "plt.savefig('porcentPizzaTreino0.png', dpi=300)\n",
    "plt.show()"
   ]
  },
  {
   "cell_type": "markdown",
   "metadata": {},
   "source": [
    "<br><b>Porcentagem da base de teste"
   ]
  },
  {
   "cell_type": "code",
   "execution_count": 29,
   "metadata": {},
   "outputs": [
    {
     "data": {
      "text/plain": [
       "0.0    79263\n",
       "1.0     8522\n",
       "Name: bas.target, dtype: int64"
      ]
     },
     "execution_count": 29,
     "metadata": {},
     "output_type": "execute_result"
    }
   ],
   "source": [
    "nClassesTeste = base_teste_classe.value_counts()\n",
    "nClassesTeste"
   ]
  },
  {
   "cell_type": "code",
   "execution_count": 30,
   "metadata": {},
   "outputs": [
    {
     "data": {
      "image/png": "[encoded data removed]",
      "text/plain": [
       "<Figure size 432x288 with 1 Axes>"
      ]
     },
     "metadata": {},
     "output_type": "display_data"
    }
   ],
   "source": [
    "labels = ['0.0 -> Adimplentes', '1.0 -> Inadimplentes']\n",
    "explode = (0.1, 0)\n",
    "plt.pie(nClassesTeste, labels=nClassesTeste.values, autopct='%1.1f%%', explode=explode)\n",
    "plt.legend(labels, loc=3 )\n",
    "plt.title('Porcentagem de ocorrências dos valores da classe alvo na Base de teste');\n",
    "plt.savefig('porcentPizzaTeste0.png', dpi=300)\n",
    "plt.show()"
   ]
  },
  {
   "cell_type": "markdown",
   "metadata": {},
   "source": [
    "<b>As figuras acima mostram o desbalanceamento da classe alvo, onde o número de inadimplentes (1.0) é muito MENOR que os não inadimplentes (0.0).<br>\n",
    "    Como referência, será utilizado a base desbalenceada nessa primeira classificação."
   ]
  },
  {
   "cell_type": "markdown",
   "metadata": {},
   "source": [
    "<b>----------------------------------------------------------------------------------------------------------------------------------------------------------------------------------------------------\n",
    "    <br>Em seguida será feita a classificação utilizando a base desbalanceada"
   ]
  },
  {
   "cell_type": "code",
   "execution_count": 90,
   "metadata": {},
   "outputs": [
    {
     "data": {
      "image/png": "[encoded data removed]",
      "text/plain": [
       "<Figure size 432x288 with 1 Axes>"
      ]
     },
     "metadata": {
      "needs_background": "light"
     },
     "output_type": "display_data"
    },
    {
     "name": "stdout",
     "output_type": "stream",
     "text": [
      "Matriz de Confusão:\n",
      "[[78570   693]\n",
      " [ 8413   109]]\n",
      "\n",
      "Resultados da classificação\n",
      "              precision    recall  f1-score   support\n",
      "\n",
      "         0.0       0.90      0.99      0.95     79263\n",
      "         1.0       0.14      0.01      0.02      8522\n",
      "\n",
      "    accuracy                           0.90     87785\n",
      "   macro avg       0.52      0.50      0.48     87785\n",
      "weighted avg       0.83      0.90      0.86     87785\n",
      "\n"
     ]
    }
   ],
   "source": [
    "matrizRandom0, resultRandom0 = RunRandomForestClassifier(base_treino_previsores, base_treino_classe, base_teste_previsores, base_teste_classe)\n",
    "print('Matriz de Confusão:')\n",
    "print(matrizRandom0)\n",
    "print()\n",
    "print('Resultados da classificação')\n",
    "print(resultRandom0)"
   ]
  },
  {
   "cell_type": "code",
   "execution_count": 91,
   "metadata": {},
   "outputs": [
    {
     "data": {
      "image/png": "[encoded data removed]",
      "text/plain": [
       "<Figure size 432x288 with 2 Axes>"
      ]
     },
     "metadata": {
      "needs_background": "light"
     },
     "output_type": "display_data"
    }
   ],
   "source": [
    "#ax= plt.subplot()\n",
    "f, ax = plt.subplots(figsize=(6,4))\n",
    "sns.heatmap(matrizRandom0, annot=True, ax = ax, fmt=\"d\", linewidths=.5, cmap=\"YlGnBu\"); #annot=True to annotate cells\n",
    "\n",
    "# labels, title and ticks\n",
    "ax.set_xlabel('Predicted labels');ax.set_ylabel('True labels'); \n",
    "ax.set_title('Matriz de Confusão RandomForestClassifier desbalanceada'); \n",
    "ax.xaxis.set_ticklabels(['0.0', '1.0']); ax.yaxis.set_ticklabels(['0.0', '1.0']);\n",
    "f.savefig('random0.png', dpi=300)"
   ]
  },
  {
   "cell_type": "markdown",
   "metadata": {},
   "source": [
    "<b>Os resultados acima foram obtidos utilizando a base desbalanceada, onde o número de inadimplentes (1.0) é muito menor que os não inadimplentes (0.0). Como mostram os resultado o classificador obteve um resultado muito bom em classificar os adimplentes, porém obteve um resultado péssimo em classificar os inadimplentes.<br>\n",
    "    Sendo assim será necessário efetuar uma balanceamento da base.<br>\n",
    "    Para isso será utilizado o método NearMiss.\n"
   ]
  },
  {
   "cell_type": "markdown",
   "metadata": {},
   "source": [
    "<b>----------------------------------------------------------------------------------------------------------------------------------------------------------------------------------------------------------------<br>\n",
    "    Em seguida será ralizada um balanceamento na base"
   ]
  },
  {
   "cell_type": "code",
   "execution_count": 92,
   "metadata": {},
   "outputs": [],
   "source": [
    "# Usando o metodo NearMiss para balencear a Base\n",
    "from imblearn.under_sampling import NearMiss\n",
    "\n",
    "nr = NearMiss()\n",
    "previsoresBalaceados1, classeBalanceada1 = nr.fit_resample(previsores, classe)"
   ]
  },
  {
   "cell_type": "code",
   "execution_count": 93,
   "metadata": {},
   "outputs": [
    {
     "data": {
      "text/plain": [
       "1.0    42275\n",
       "0.0    42275\n",
       "Name: bas.target, dtype: int64"
      ]
     },
     "execution_count": 93,
     "metadata": {},
     "output_type": "execute_result"
    }
   ],
   "source": [
    "nClassesBalanceadas1 = classeBalanceada1.value_counts()\n",
    "nClassesBalanceadas1"
   ]
  },
  {
   "cell_type": "code",
   "execution_count": 94,
   "metadata": {},
   "outputs": [
    {
     "data": {
      "image/png": "[encoded data removed]",
      "text/plain": [
       "<Figure size 504x360 with 1 Axes>"
      ]
     },
     "metadata": {
      "needs_background": "light"
     },
     "output_type": "display_data"
    }
   ],
   "source": [
    "nClassesBalanceadas1.plot(kind='bar', \n",
    "                  title='Nº de Inadimplentes 1.0 e Adimplentes 0.0 na base após undersampling',\n",
    "                  color = ['#1F77B4', '#FF7F0E'],\n",
    "                  figsize=(7,5),\n",
    "                  ylabel='Nº Ocorrências',\n",
    "                  xlabel='Valores contidos no atributo alvo');"
   ]
  },
  {
   "cell_type": "markdown",
   "metadata": {},
   "source": [
    "<b>Como mostra a figura acima, é possível ver que agora a base esta balanceada.<br>\n",
    "    ----------------------------------------------------------------------------------------------------------------------------------------------------------------------------------------------------------------<br>\n",
    "    Em seguida a nova base será utilizada para classificação."
   ]
  },
  {
   "cell_type": "code",
   "execution_count": 95,
   "metadata": {},
   "outputs": [],
   "source": [
    "from sklearn.model_selection import train_test_split\n",
    "previsores_treinamento_bal1, previsores_teste_bal1, classe_treinamento_bal1, classe_teste_bal1 = train_test_split(previsoresBalaceados1, classeBalanceada1, test_size=0.20, random_state=0)"
   ]
  },
  {
   "cell_type": "code",
   "execution_count": 96,
   "metadata": {},
   "outputs": [
    {
     "data": {
      "text/plain": [
       "1.0    8582\n",
       "0.0    8328\n",
       "Name: bas.target, dtype: int64"
      ]
     },
     "execution_count": 96,
     "metadata": {},
     "output_type": "execute_result"
    }
   ],
   "source": [
    "nClassesBaseTesteBalNearMiss = classe_teste_bal1.value_counts()\n",
    "nClassesBaseTesteBalNearMiss"
   ]
  },
  {
   "cell_type": "code",
   "execution_count": 97,
   "metadata": {},
   "outputs": [
    {
     "data": {
      "text/plain": [
       "0.0    33947\n",
       "1.0    33693\n",
       "Name: bas.target, dtype: int64"
      ]
     },
     "execution_count": 97,
     "metadata": {},
     "output_type": "execute_result"
    }
   ],
   "source": [
    "nClassesBaseTreinoBalNearMiss = classe_treinamento_bal1.value_counts()\n",
    "nClassesBaseTreinoBalNearMiss"
   ]
  },
  {
   "cell_type": "code",
   "execution_count": 98,
   "metadata": {},
   "outputs": [
    {
     "data": {
      "image/png": "[encoded data removed]",
      "text/plain": [
       "<Figure size 432x288 with 1 Axes>"
      ]
     },
     "metadata": {},
     "output_type": "display_data"
    }
   ],
   "source": [
    "labels = ['0.0-Adimplentes', '1.0-Inadimplentes']\n",
    "explode = (0.05, 0)\n",
    "plt.pie(nClassesBaseTreinoBalNearMiss, labels=nClassesBaseTreinoBalNearMiss.values, autopct='%1.2f%%')\n",
    "plt.legend(labels, loc=10 )\n",
    "plt.title('Porcentagem de ocorrências dos valores da classe alvo na base de Treino NearMiss');\n",
    "plt.savefig('porcentPizzaTtrinoNearMiss.png', dpi=300)\n",
    "plt.show()"
   ]
  },
  {
   "cell_type": "code",
   "execution_count": 99,
   "metadata": {},
   "outputs": [
    {
     "data": {
      "image/png": "[encoded data removed]",
      "text/plain": [
       "<Figure size 432x288 with 1 Axes>"
      ]
     },
     "metadata": {
      "needs_background": "light"
     },
     "output_type": "display_data"
    },
    {
     "name": "stdout",
     "output_type": "stream",
     "text": [
      "Classificador Random Forest Classifier com balanceamento NearMiss\n",
      "Matriz de Confusão:\n",
      "[[7820  508]\n",
      " [4799 3783]]\n",
      "\n",
      "Resultados da classificação\n",
      "              precision    recall  f1-score   support\n",
      "\n",
      "         0.0       0.62      0.94      0.75      8328\n",
      "         1.0       0.88      0.44      0.59      8582\n",
      "\n",
      "    accuracy                           0.69     16910\n",
      "   macro avg       0.75      0.69      0.67     16910\n",
      "weighted avg       0.75      0.69      0.67     16910\n",
      "\n"
     ]
    }
   ],
   "source": [
    "matrizRandom1, resultRandom1 = RunRandomForestClassifier(previsores_treinamento_bal1, classe_treinamento_bal1, previsores_teste_bal1, classe_teste_bal1)\n",
    "print('Classificador Random Forest Classifier com balanceamento NearMiss')\n",
    "print('Matriz de Confusão:')\n",
    "print(matrizRandom1)\n",
    "print()\n",
    "print('Resultados da classificação')\n",
    "print(resultRandom1)"
   ]
  },
  {
   "cell_type": "code",
   "execution_count": 100,
   "metadata": {},
   "outputs": [
    {
     "data": {
      "image/png": "[encoded data removed]",
      "text/plain": [
       "<Figure size 432x288 with 2 Axes>"
      ]
     },
     "metadata": {
      "needs_background": "light"
     },
     "output_type": "display_data"
    }
   ],
   "source": [
    "#ax= plt.subplot()\n",
    "f, ax = plt.subplots(figsize=(6,4))\n",
    "sns.heatmap(matrizRandom1, annot=True, ax = ax, fmt=\"d\", linewidths=.5, cmap=\"YlGnBu\"); #annot=True to annotate cells\n",
    "\n",
    "# labels, title and ticks\n",
    "ax.set_xlabel('Predicted labels');ax.set_ylabel('True labels'); \n",
    "ax.set_title('Matriz de Confusão RandomForestClassifier com balanceamento NearMiss'); \n",
    "ax.xaxis.set_ticklabels(['0.0', '1.0']); ax.yaxis.set_ticklabels(['0.0', '1.0']);\n",
    "f.savefig('random1.png', dpi=300)"
   ]
  },
  {
   "cell_type": "markdown",
   "metadata": {},
   "source": [
    "<br><b>Com o método NearMiss, que reduz o número de instancia com o atributo alvo com mais valores, os resultados tiveram uma melhora porém ainda não foram satisfatórios<br>\n",
    "    ---------------------------------------------------------------------------------------------------------------------------------------------------------------------------------"
   ]
  },
  {
   "cell_type": "markdown",
   "metadata": {},
   "source": [
    "<b>Em segiuda será utilizado o método SMOTE()"
   ]
  },
  {
   "cell_type": "code",
   "execution_count": 101,
   "metadata": {},
   "outputs": [],
   "source": [
    "from imblearn.over_sampling import SMOTE\n",
    "\n",
    "smt = SMOTE()\n",
    "previsoresBalaceados2, classeBalanceada2 = smt.fit_resample(previsores, classe)"
   ]
  },
  {
   "cell_type": "code",
   "execution_count": 102,
   "metadata": {},
   "outputs": [
    {
     "data": {
      "text/plain": [
       "1.0    396649\n",
       "0.0    396649\n",
       "Name: bas.target, dtype: int64"
      ]
     },
     "execution_count": 102,
     "metadata": {},
     "output_type": "execute_result"
    }
   ],
   "source": [
    "nClassesBalanceadas2 = classeBalanceada2.value_counts()\n",
    "nClassesBalanceadas2"
   ]
  },
  {
   "cell_type": "code",
   "execution_count": 103,
   "metadata": {},
   "outputs": [
    {
     "data": {
      "image/png": "[encoded data removed]",
      "text/plain": [
       "<Figure size 504x360 with 1 Axes>"
      ]
     },
     "metadata": {
      "needs_background": "light"
     },
     "output_type": "display_data"
    }
   ],
   "source": [
    "nClassesBalanceadas2.plot(kind='bar', \n",
    "                  title='Nº de Inadimplentes 1.0 e Adimplentes 0.0 na base após o oversampling ',\n",
    "                  color = ['#1F77B4', '#FF7F0E'],\n",
    "                  figsize=(7,5),\n",
    "                  ylabel='Nº Ocorrências',\n",
    "                  xlabel='Valores contidos no atributo alvo');"
   ]
  },
  {
   "cell_type": "markdown",
   "metadata": {},
   "source": [
    "<b>Como mostra a figura acima, é possível ver que agora a base esta balanceada.<br>\n",
    "    ----------------------------------------------------------------------------------------------------------------------------------------------------------------------------------------------------------------<br>\n",
    "    Em seguida a nova base será utilizada para classificação."
   ]
  },
  {
   "cell_type": "code",
   "execution_count": 104,
   "metadata": {},
   "outputs": [],
   "source": [
    "from sklearn.model_selection import train_test_split\n",
    "previsores_treinamento_bal2, previsores_teste_bal2, classe_treinamento_bal2, classe_teste_bal2 = train_test_split(previsoresBalaceados2, classeBalanceada2, test_size=0.20, random_state=0)"
   ]
  },
  {
   "cell_type": "code",
   "execution_count": 105,
   "metadata": {},
   "outputs": [
    {
     "data": {
      "text/plain": [
       "1.0    79666\n",
       "0.0    78994\n",
       "Name: bas.target, dtype: int64"
      ]
     },
     "execution_count": 105,
     "metadata": {},
     "output_type": "execute_result"
    }
   ],
   "source": [
    "nClassesBaseTesteBalSMOTE = classe_teste_bal2.value_counts()\n",
    "nClassesBaseTesteBalSMOTE"
   ]
  },
  {
   "cell_type": "code",
   "execution_count": 106,
   "metadata": {},
   "outputs": [
    {
     "data": {
      "text/plain": [
       "0.0    317655\n",
       "1.0    316983\n",
       "Name: bas.target, dtype: int64"
      ]
     },
     "execution_count": 106,
     "metadata": {},
     "output_type": "execute_result"
    }
   ],
   "source": [
    "nClassesBaseTreinoBalSMOTE = classe_treinamento_bal2.value_counts()\n",
    "nClassesBaseTreinoBalSMOTE"
   ]
  },
  {
   "cell_type": "code",
   "execution_count": 107,
   "metadata": {
    "scrolled": true
   },
   "outputs": [
    {
     "data": {
      "image/png": "[encoded data removed]",
      "text/plain": [
       "<Figure size 432x288 with 1 Axes>"
      ]
     },
     "metadata": {
      "needs_background": "light"
     },
     "output_type": "display_data"
    },
    {
     "name": "stdout",
     "output_type": "stream",
     "text": [
      "Classificador Random Forest Classifier com balanceamento SMOTE\n",
      "Matriz de Confusão:\n",
      "[[53921 25073]\n",
      " [ 9839 69827]]\n",
      "\n",
      "Resultados da classificação\n",
      "              precision    recall  f1-score   support\n",
      "\n",
      "         0.0       0.85      0.68      0.76     78994\n",
      "         1.0       0.74      0.88      0.80     79666\n",
      "\n",
      "    accuracy                           0.78    158660\n",
      "   macro avg       0.79      0.78      0.78    158660\n",
      "weighted avg       0.79      0.78      0.78    158660\n",
      "\n"
     ]
    }
   ],
   "source": [
    "matrizRandom2, resultRandom2 = RunRandomForestClassifier(previsores_treinamento_bal2, classe_treinamento_bal2, previsores_teste_bal2, classe_teste_bal2)\n",
    "print('Classificador Random Forest Classifier com balanceamento SMOTE')\n",
    "print('Matriz de Confusão:')\n",
    "print(matrizRandom2)\n",
    "print()\n",
    "print('Resultados da classificação')\n",
    "print(resultRandom2)"
   ]
  },
  {
   "cell_type": "markdown",
   "metadata": {},
   "source": [
    "<br><b>Os resultados da classificação utilizando o método de balanceamento SMOTE se mostram ligeiramente melhor em relação ao NearMiss, sendo assim, os demais testes serão realizados utilizando os dados normalizados com o SMOTE. "
   ]
  },
  {
   "cell_type": "markdown",
   "metadata": {},
   "source": [
    "<b>-----------------------------------------------------------------------------------------------------------------------------------------------------------------------------------------------------<br>\n",
    "    Em seguida os resultados do obitos serão comparados com os resultados dos classificador GaussianNB, LogisticRegression e DecisionTreeClassifier."
   ]
  },
  {
   "cell_type": "markdown",
   "metadata": {},
   "source": [
    "<b><br>Resultados do classificador GaussianNB"
   ]
  },
  {
   "cell_type": "code",
   "execution_count": 108,
   "metadata": {},
   "outputs": [
    {
     "data": {
      "image/png": "[encoded data removed]",
      "text/plain": [
       "<Figure size 432x288 with 1 Axes>"
      ]
     },
     "metadata": {
      "needs_background": "light"
     },
     "output_type": "display_data"
    },
    {
     "name": "stdout",
     "output_type": "stream",
     "text": [
      "Matriz de Confusão:\n",
      "[[27132 51862]\n",
      " [14420 65246]]\n",
      "\n",
      "Resultados da classificação\n",
      "              precision    recall  f1-score   support\n",
      "\n",
      "         0.0       0.65      0.34      0.45     78994\n",
      "         1.0       0.56      0.82      0.66     79666\n",
      "\n",
      "    accuracy                           0.58    158660\n",
      "   macro avg       0.61      0.58      0.56    158660\n",
      "weighted avg       0.60      0.58      0.56    158660\n",
      "\n"
     ]
    }
   ],
   "source": [
    "matrizGNB, resultGNB = RunGaussianNB(previsores_treinamento_bal2, classe_treinamento_bal2, previsores_teste_bal2, classe_teste_bal2)\n",
    "print('Matriz de Confusão:')\n",
    "print(matrizGNB)\n",
    "print()\n",
    "print('Resultados da classificação')\n",
    "print(resultGNB)"
   ]
  },
  {
   "cell_type": "markdown",
   "metadata": {},
   "source": [
    "<b><br>Resultados do classificador LogisticRegression"
   ]
  },
  {
   "cell_type": "code",
   "execution_count": 109,
   "metadata": {},
   "outputs": [
    {
     "data": {
      "image/png": "[encoded data removed]",
      "text/plain": [
       "<Figure size 432x288 with 1 Axes>"
      ]
     },
     "metadata": {
      "needs_background": "light"
     },
     "output_type": "display_data"
    },
    {
     "name": "stdout",
     "output_type": "stream",
     "text": [
      "Matriz de Confusão:\n",
      "[[41735 37259]\n",
      " [25477 54189]]\n",
      "\n",
      "Resultados da classificação\n",
      "              precision    recall  f1-score   support\n",
      "\n",
      "         0.0       0.62      0.53      0.57     78994\n",
      "         1.0       0.59      0.68      0.63     79666\n",
      "\n",
      "    accuracy                           0.60    158660\n",
      "   macro avg       0.61      0.60      0.60    158660\n",
      "weighted avg       0.61      0.60      0.60    158660\n",
      "\n"
     ]
    }
   ],
   "source": [
    "matrizLR, resultLR = RunLogisticRegression(previsores_treinamento_bal2, classe_treinamento_bal2, previsores_teste_bal2, classe_teste_bal2)\n",
    "print('Matriz de Confusão:')\n",
    "print(matrizLR)\n",
    "print()\n",
    "print('Resultados da classificação')\n",
    "print(resultLR)"
   ]
  },
  {
   "cell_type": "markdown",
   "metadata": {},
   "source": [
    "<b><br>Resultados do classificador DecisionTreeClassifier"
   ]
  },
  {
   "cell_type": "code",
   "execution_count": 110,
   "metadata": {},
   "outputs": [
    {
     "data": {
      "image/png": "[encoded data removed]",
      "text/plain": [
       "<Figure size 432x288 with 1 Axes>"
      ]
     },
     "metadata": {
      "needs_background": "light"
     },
     "output_type": "display_data"
    },
    {
     "name": "stdout",
     "output_type": "stream",
     "text": [
      "Matriz de Confusão:\n",
      "[[52857 26137]\n",
      " [ 9907 69759]]\n",
      "\n",
      "Resultados da classificação\n",
      "              precision    recall  f1-score   support\n",
      "\n",
      "         0.0       0.84      0.67      0.75     78994\n",
      "         1.0       0.73      0.88      0.79     79666\n",
      "\n",
      "    accuracy                           0.77    158660\n",
      "   macro avg       0.78      0.77      0.77    158660\n",
      "weighted avg       0.78      0.77      0.77    158660\n",
      "\n"
     ]
    }
   ],
   "source": [
    "matrizTree, resultTree = RunDecisionTreeClassifier(previsores_treinamento_bal2, classe_treinamento_bal2, previsores_teste_bal2, classe_teste_bal2)\n",
    "print('Matriz de Confusão:')\n",
    "print(matrizTree)\n",
    "print()\n",
    "print('Resultados da classificação')\n",
    "print(resultTree)"
   ]
  },
  {
   "cell_type": "markdown",
   "metadata": {},
   "source": [
    "<b>Resultados do classificador KNN"
   ]
  },
  {
   "cell_type": "code",
   "execution_count": 118,
   "metadata": {
    "scrolled": true
   },
   "outputs": [
    {
     "data": {
      "image/png": "[encoded data removed]",
      "text/plain": [
       "<Figure size 432x288 with 1 Axes>"
      ]
     },
     "metadata": {
      "needs_background": "light"
     },
     "output_type": "display_data"
    },
    {
     "name": "stdout",
     "output_type": "stream",
     "text": [
      "Matriz de Confusão:\n",
      "[[54172 24822]\n",
      " [23969 55697]]\n",
      "\n",
      "Resultados da classificação\n",
      "              precision    recall  f1-score   support\n",
      "\n",
      "         0.0       0.69      0.69      0.69     78994\n",
      "         1.0       0.69      0.70      0.70     79666\n",
      "\n",
      "    accuracy                           0.69    158660\n",
      "   macro avg       0.69      0.69      0.69    158660\n",
      "weighted avg       0.69      0.69      0.69    158660\n",
      "\n"
     ]
    }
   ],
   "source": [
    "matrizKNN, resultKNN = RunKNeighborsClassifier(previsores_treinamento_bal2, classe_treinamento_bal2, previsores_teste_bal2, classe_teste_bal2)\n",
    "print('Matriz de Confusão:')\n",
    "print(matrizKNN)\n",
    "print()\n",
    "print('Resultados da classificação')\n",
    "print(resultKNN)"
   ]
  },
  {
   "cell_type": "markdown",
   "metadata": {},
   "source": [
    "<b><br>Como mostram os resultados, o classificador que obteve o melhor resultado foi o RandomForestClassifier. Abaixo segue novamente o resultado deste classificador:"
   ]
  },
  {
   "cell_type": "code",
   "execution_count": 111,
   "metadata": {},
   "outputs": [
    {
     "name": "stdout",
     "output_type": "stream",
     "text": [
      "Matriz de Confusão:\n",
      "[[53921 25073]\n",
      " [ 9839 69827]]\n",
      "\n",
      "Resultados da classificação\n",
      "              precision    recall  f1-score   support\n",
      "\n",
      "         0.0       0.85      0.68      0.76     78994\n",
      "         1.0       0.74      0.88      0.80     79666\n",
      "\n",
      "    accuracy                           0.78    158660\n",
      "   macro avg       0.79      0.78      0.78    158660\n",
      "weighted avg       0.79      0.78      0.78    158660\n",
      "\n"
     ]
    }
   ],
   "source": [
    "print('Matriz de Confusão:')\n",
    "print(matrizRandom2)\n",
    "print()\n",
    "print('Resultados da classificação')\n",
    "print(resultRandom2)"
   ]
  },
  {
   "cell_type": "code",
   "execution_count": 112,
   "metadata": {},
   "outputs": [
    {
     "data": {
      "image/png": "[encoded data removed]",
      "text/plain": [
       "<Figure size 432x288 with 2 Axes>"
      ]
     },
     "metadata": {
      "needs_background": "light"
     },
     "output_type": "display_data"
    }
   ],
   "source": [
    "import seaborn as sns\n",
    "import matplotlib.pyplot as plt     \n",
    "\n",
    "#ax= plt.subplot()\n",
    "f, ax = plt.subplots(figsize=(6,4))\n",
    "sns.heatmap(matrizRandom2, annot=True, ax = ax, fmt=\"d\", linewidths=.5, cmap=\"YlGnBu\"); #annot=True to annotate cells\n",
    "\n",
    "# labels, title and ticks\n",
    "ax.set_xlabel('Predicted labels');ax.set_ylabel('True labels'); \n",
    "ax.set_title('Matriz de Confusão Random Forest Normalizada'); \n",
    "ax.xaxis.set_ticklabels(['0.0', '1.0']); ax.yaxis.set_ticklabels(['0.0', '1.0']);\n",
    "f.savefig('random2.png', dpi=300)"
   ]
  },
  {
   "cell_type": "code",
   "execution_count": 113,
   "metadata": {},
   "outputs": [
    {
     "data": {
      "image/png": "[encoded data removed]",
      "text/plain": [
       "<Figure size 432x288 with 2 Axes>"
      ]
     },
     "metadata": {
      "needs_background": "light"
     },
     "output_type": "display_data"
    }
   ],
   "source": [
    "#ax= plt.subplot()\n",
    "f, ax = plt.subplots(figsize=(6,4))\n",
    "sns.heatmap(matrizGNB, annot=True, ax = ax, fmt=\"d\", linewidths=.5, cmap=\"YlGnBu\"); #annot=True to annotate cells\n",
    "\n",
    "# labels, title and ticks\n",
    "ax.set_xlabel('Predicted labels');ax.set_ylabel('True labels'); \n",
    "ax.set_title('Matriz de Confusão GaussianNB Normalizada'); \n",
    "ax.xaxis.set_ticklabels(['0.0', '1.0']); ax.yaxis.set_ticklabels(['0.0', '1.0']);\n",
    "f.savefig('GaussianNB.png', dpi=300)"
   ]
  },
  {
   "cell_type": "code",
   "execution_count": 114,
   "metadata": {},
   "outputs": [
    {
     "data": {
      "image/png": "[encoded data removed]",
      "text/plain": [
       "<Figure size 432x288 with 2 Axes>"
      ]
     },
     "metadata": {
      "needs_background": "light"
     },
     "output_type": "display_data"
    }
   ],
   "source": [
    "#ax= plt.subplot()\n",
    "f, ax = plt.subplots(figsize=(6,4))\n",
    "sns.heatmap(matrizLR, annot=True, ax = ax, fmt=\"d\", linewidths=.5, cmap=\"YlGnBu\"); #annot=True to annotate cells\n",
    "\n",
    "# labels, title and ticks\n",
    "ax.set_xlabel('Predicted labels');ax.set_ylabel('True labels'); \n",
    "ax.set_title('Matriz de Confusão LogisticRegression Normalizada'); \n",
    "ax.xaxis.set_ticklabels(['0.0', '1.0']); ax.yaxis.set_ticklabels(['0.0', '1.0']);\n",
    "f.savefig('RL.png', dpi=300)"
   ]
  },
  {
   "cell_type": "code",
   "execution_count": 115,
   "metadata": {},
   "outputs": [
    {
     "data": {
      "image/png": "[encoded data removed]",
      "text/plain": [
       "<Figure size 432x288 with 2 Axes>"
      ]
     },
     "metadata": {
      "needs_background": "light"
     },
     "output_type": "display_data"
    }
   ],
   "source": [
    "#ax= plt.subplot()\n",
    "f, ax = plt.subplots(figsize=(6,4))\n",
    "sns.heatmap(matrizTree, annot=True, ax = ax, fmt=\"d\", linewidths=.5, cmap=\"YlGnBu\"); #annot=True to annotate cells\n",
    "\n",
    "# labels, title and ticks\n",
    "ax.set_xlabel('Predicted labels');ax.set_ylabel('True labels'); \n",
    "ax.set_title('Matriz de Confusão DecisionTreeClassifier Normalizada'); \n",
    "ax.xaxis.set_ticklabels(['0.0', '1.0']); ax.yaxis.set_ticklabels(['0.0', '1.0']);\n",
    "f.savefig('tree.png', dpi=300)"
   ]
  },
  {
   "cell_type": "code",
   "execution_count": 185,
   "metadata": {},
   "outputs": [
    {
     "data": {
      "image/png": "[encoded data removed]",
      "text/plain": [
       "<Figure size 432x288 with 2 Axes>"
      ]
     },
     "metadata": {},
     "output_type": "display_data"
    }
   ],
   "source": [
    "#ax= plt.subplot()\n",
    "f, ax = plt.subplots(figsize=(6,4))\n",
    "sns.heatmap(matrizKNN, annot=True, ax = ax, fmt=\"d\", linewidths=.5, cmap=\"YlGnBu\"); #annot=True to annotate cells\n",
    "\n",
    "# labels, title and ticks\n",
    "ax.set_xlabel('Predicted labels');ax.set_ylabel('True labels'); \n",
    "ax.set_title('Matriz de Confusão KNeighborsClassifier Normalizada'); \n",
    "ax.xaxis.set_ticklabels(['0.0', '1.0']); ax.yaxis.set_ticklabels(['0.0', '1.0']);\n",
    "f.savefig('KNN.png', dpi=300)"
   ]
  },
  {
   "cell_type": "code",
   "execution_count": null,
   "metadata": {},
   "outputs": [],
   "source": []
  }
 ],
 "metadata": {
  "kernelspec": {
   "display_name": "Python 3 (ipykernel)",
   "language": "python",
   "name": "python3"
  },
  "language_info": {
   "codemirror_mode": {
    "name": "ipython",
    "version": 3
   },
   "file_extension": ".py",
   "mimetype": "text/x-python",
   "name": "python",
   "nbconvert_exporter": "python",
   "pygments_lexer": "ipython3",
   "version": "3.8.11"
  }
 },
 "nbformat": 4,
 "nbformat_minor": 4
}
